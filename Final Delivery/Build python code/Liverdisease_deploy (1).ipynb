{
  "nbformat": 4,
  "nbformat_minor": 0,
  "metadata": {
    "colab": {
      "provenance": []
    },
    "kernelspec": {
      "name": "python3",
      "display_name": "Python 3"
    },
    "language_info": {
      "name": "python"
    }
  },
  "cells": [
    {
      "cell_type": "code",
      "source": [
        "import numpy as np\n",
        "import pandas as pd\n",
        "import matplotlib.pyplot as plt\n",
        "import seaborn as sns\n",
        "\n",
        "%matplotlib inline\n",
        "import warnings\n",
        "warnings.filterwarnings('ignore')"
      ],
      "metadata": {
        "id": "iclL1JIMXTLj"
      },
      "execution_count": 3,
      "outputs": []
    },
    {
      "cell_type": "code",
      "source": [
        "df = pd.read_csv('/content/india liver data.csv')\n",
        "df.columns = df.columns.map(str.lower)                              # column names to lowercase\n",
        "df.head()"
      ],
      "metadata": {
        "id": "xccl1TH7-8ZP",
        "colab": {
          "base_uri": "https://localhost:8080/",
          "height": 270
        },
        "outputId": "7d1b6e1e-a7b3-4d75-a1e9-458c9a299f53"
      },
      "execution_count": 4,
      "outputs": [
        {
          "output_type": "execute_result",
          "data": {
            "text/plain": [
              "   age  gender  total_bilirubin  direct_bilirubin  alkaline_phosphotase  \\\n",
              "0   65  Female              0.7               0.1                   187   \n",
              "1   62    Male             10.9               5.5                   699   \n",
              "2   62    Male              7.3               4.1                   490   \n",
              "3   58    Male              1.0               0.4                   182   \n",
              "4   72    Male              3.9               2.0                   195   \n",
              "\n",
              "   alamine_aminotransferase  aspartate_aminotransferase  total_protiens  \\\n",
              "0                        16                          18             6.8   \n",
              "1                        64                         100             7.5   \n",
              "2                        60                          68             7.0   \n",
              "3                        14                          20             6.8   \n",
              "4                        27                          59             7.3   \n",
              "\n",
              "   albumin  albumin_and_globulin_ratio  dataset  \n",
              "0      3.3                        0.90        1  \n",
              "1      3.2                        0.74        1  \n",
              "2      3.3                        0.89        1  \n",
              "3      3.4                        1.00        1  \n",
              "4      2.4                        0.40        1  "
            ],
            "text/html": [
              "\n",
              "  <div id=\"df-8155fb01-749d-4fa2-b897-88cac45c638a\">\n",
              "    <div class=\"colab-df-container\">\n",
              "      <div>\n",
              "<style scoped>\n",
              "    .dataframe tbody tr th:only-of-type {\n",
              "        vertical-align: middle;\n",
              "    }\n",
              "\n",
              "    .dataframe tbody tr th {\n",
              "        vertical-align: top;\n",
              "    }\n",
              "\n",
              "    .dataframe thead th {\n",
              "        text-align: right;\n",
              "    }\n",
              "</style>\n",
              "<table border=\"1\" class=\"dataframe\">\n",
              "  <thead>\n",
              "    <tr style=\"text-align: right;\">\n",
              "      <th></th>\n",
              "      <th>age</th>\n",
              "      <th>gender</th>\n",
              "      <th>total_bilirubin</th>\n",
              "      <th>direct_bilirubin</th>\n",
              "      <th>alkaline_phosphotase</th>\n",
              "      <th>alamine_aminotransferase</th>\n",
              "      <th>aspartate_aminotransferase</th>\n",
              "      <th>total_protiens</th>\n",
              "      <th>albumin</th>\n",
              "      <th>albumin_and_globulin_ratio</th>\n",
              "      <th>dataset</th>\n",
              "    </tr>\n",
              "  </thead>\n",
              "  <tbody>\n",
              "    <tr>\n",
              "      <th>0</th>\n",
              "      <td>65</td>\n",
              "      <td>Female</td>\n",
              "      <td>0.7</td>\n",
              "      <td>0.1</td>\n",
              "      <td>187</td>\n",
              "      <td>16</td>\n",
              "      <td>18</td>\n",
              "      <td>6.8</td>\n",
              "      <td>3.3</td>\n",
              "      <td>0.90</td>\n",
              "      <td>1</td>\n",
              "    </tr>\n",
              "    <tr>\n",
              "      <th>1</th>\n",
              "      <td>62</td>\n",
              "      <td>Male</td>\n",
              "      <td>10.9</td>\n",
              "      <td>5.5</td>\n",
              "      <td>699</td>\n",
              "      <td>64</td>\n",
              "      <td>100</td>\n",
              "      <td>7.5</td>\n",
              "      <td>3.2</td>\n",
              "      <td>0.74</td>\n",
              "      <td>1</td>\n",
              "    </tr>\n",
              "    <tr>\n",
              "      <th>2</th>\n",
              "      <td>62</td>\n",
              "      <td>Male</td>\n",
              "      <td>7.3</td>\n",
              "      <td>4.1</td>\n",
              "      <td>490</td>\n",
              "      <td>60</td>\n",
              "      <td>68</td>\n",
              "      <td>7.0</td>\n",
              "      <td>3.3</td>\n",
              "      <td>0.89</td>\n",
              "      <td>1</td>\n",
              "    </tr>\n",
              "    <tr>\n",
              "      <th>3</th>\n",
              "      <td>58</td>\n",
              "      <td>Male</td>\n",
              "      <td>1.0</td>\n",
              "      <td>0.4</td>\n",
              "      <td>182</td>\n",
              "      <td>14</td>\n",
              "      <td>20</td>\n",
              "      <td>6.8</td>\n",
              "      <td>3.4</td>\n",
              "      <td>1.00</td>\n",
              "      <td>1</td>\n",
              "    </tr>\n",
              "    <tr>\n",
              "      <th>4</th>\n",
              "      <td>72</td>\n",
              "      <td>Male</td>\n",
              "      <td>3.9</td>\n",
              "      <td>2.0</td>\n",
              "      <td>195</td>\n",
              "      <td>27</td>\n",
              "      <td>59</td>\n",
              "      <td>7.3</td>\n",
              "      <td>2.4</td>\n",
              "      <td>0.40</td>\n",
              "      <td>1</td>\n",
              "    </tr>\n",
              "  </tbody>\n",
              "</table>\n",
              "</div>\n",
              "      <button class=\"colab-df-convert\" onclick=\"convertToInteractive('df-8155fb01-749d-4fa2-b897-88cac45c638a')\"\n",
              "              title=\"Convert this dataframe to an interactive table.\"\n",
              "              style=\"display:none;\">\n",
              "        \n",
              "  <svg xmlns=\"http://www.w3.org/2000/svg\" height=\"24px\"viewBox=\"0 0 24 24\"\n",
              "       width=\"24px\">\n",
              "    <path d=\"M0 0h24v24H0V0z\" fill=\"none\"/>\n",
              "    <path d=\"M18.56 5.44l.94 2.06.94-2.06 2.06-.94-2.06-.94-.94-2.06-.94 2.06-2.06.94zm-11 1L8.5 8.5l.94-2.06 2.06-.94-2.06-.94L8.5 2.5l-.94 2.06-2.06.94zm10 10l.94 2.06.94-2.06 2.06-.94-2.06-.94-.94-2.06-.94 2.06-2.06.94z\"/><path d=\"M17.41 7.96l-1.37-1.37c-.4-.4-.92-.59-1.43-.59-.52 0-1.04.2-1.43.59L10.3 9.45l-7.72 7.72c-.78.78-.78 2.05 0 2.83L4 21.41c.39.39.9.59 1.41.59.51 0 1.02-.2 1.41-.59l7.78-7.78 2.81-2.81c.8-.78.8-2.07 0-2.86zM5.41 20L4 18.59l7.72-7.72 1.47 1.35L5.41 20z\"/>\n",
              "  </svg>\n",
              "      </button>\n",
              "      \n",
              "  <style>\n",
              "    .colab-df-container {\n",
              "      display:flex;\n",
              "      flex-wrap:wrap;\n",
              "      gap: 12px;\n",
              "    }\n",
              "\n",
              "    .colab-df-convert {\n",
              "      background-color: #E8F0FE;\n",
              "      border: none;\n",
              "      border-radius: 50%;\n",
              "      cursor: pointer;\n",
              "      display: none;\n",
              "      fill: #1967D2;\n",
              "      height: 32px;\n",
              "      padding: 0 0 0 0;\n",
              "      width: 32px;\n",
              "    }\n",
              "\n",
              "    .colab-df-convert:hover {\n",
              "      background-color: #E2EBFA;\n",
              "      box-shadow: 0px 1px 2px rgba(60, 64, 67, 0.3), 0px 1px 3px 1px rgba(60, 64, 67, 0.15);\n",
              "      fill: #174EA6;\n",
              "    }\n",
              "\n",
              "    [theme=dark] .colab-df-convert {\n",
              "      background-color: #3B4455;\n",
              "      fill: #D2E3FC;\n",
              "    }\n",
              "\n",
              "    [theme=dark] .colab-df-convert:hover {\n",
              "      background-color: #434B5C;\n",
              "      box-shadow: 0px 1px 3px 1px rgba(0, 0, 0, 0.15);\n",
              "      filter: drop-shadow(0px 1px 2px rgba(0, 0, 0, 0.3));\n",
              "      fill: #FFFFFF;\n",
              "    }\n",
              "  </style>\n",
              "\n",
              "      <script>\n",
              "        const buttonEl =\n",
              "          document.querySelector('#df-8155fb01-749d-4fa2-b897-88cac45c638a button.colab-df-convert');\n",
              "        buttonEl.style.display =\n",
              "          google.colab.kernel.accessAllowed ? 'block' : 'none';\n",
              "\n",
              "        async function convertToInteractive(key) {\n",
              "          const element = document.querySelector('#df-8155fb01-749d-4fa2-b897-88cac45c638a');\n",
              "          const dataTable =\n",
              "            await google.colab.kernel.invokeFunction('convertToInteractive',\n",
              "                                                     [key], {});\n",
              "          if (!dataTable) return;\n",
              "\n",
              "          const docLinkHtml = 'Like what you see? Visit the ' +\n",
              "            '<a target=\"_blank\" href=https://colab.research.google.com/notebooks/data_table.ipynb>data table notebook</a>'\n",
              "            + ' to learn more about interactive tables.';\n",
              "          element.innerHTML = '';\n",
              "          dataTable['output_type'] = 'display_data';\n",
              "          await google.colab.output.renderOutput(dataTable, element);\n",
              "          const docLink = document.createElement('div');\n",
              "          docLink.innerHTML = docLinkHtml;\n",
              "          element.appendChild(docLink);\n",
              "        }\n",
              "      </script>\n",
              "    </div>\n",
              "  </div>\n",
              "  "
            ]
          },
          "metadata": {},
          "execution_count": 4
        }
      ]
    },
    {
      "cell_type": "code",
      "source": [
        "df.info()\n"
      ],
      "metadata": {
        "id": "AnClnWr3_AZR",
        "colab": {
          "base_uri": "https://localhost:8080/"
        },
        "outputId": "df465777-e3c2-44c5-827f-03c187ff7ad1"
      },
      "execution_count": 5,
      "outputs": [
        {
          "output_type": "stream",
          "name": "stdout",
          "text": [
            "<class 'pandas.core.frame.DataFrame'>\n",
            "RangeIndex: 583 entries, 0 to 582\n",
            "Data columns (total 11 columns):\n",
            " #   Column                      Non-Null Count  Dtype  \n",
            "---  ------                      --------------  -----  \n",
            " 0   age                         583 non-null    int64  \n",
            " 1   gender                      583 non-null    object \n",
            " 2   total_bilirubin             583 non-null    float64\n",
            " 3   direct_bilirubin            583 non-null    float64\n",
            " 4   alkaline_phosphotase        583 non-null    int64  \n",
            " 5   alamine_aminotransferase    583 non-null    int64  \n",
            " 6   aspartate_aminotransferase  583 non-null    int64  \n",
            " 7   total_protiens              583 non-null    float64\n",
            " 8   albumin                     583 non-null    float64\n",
            " 9   albumin_and_globulin_ratio  579 non-null    float64\n",
            " 10  dataset                     583 non-null    int64  \n",
            "dtypes: float64(5), int64(5), object(1)\n",
            "memory usage: 50.2+ KB\n"
          ]
        }
      ]
    },
    {
      "cell_type": "code",
      "source": [
        "df.describe(include='all').T"
      ],
      "metadata": {
        "id": "fcFqhi-m_MYD",
        "colab": {
          "base_uri": "https://localhost:8080/",
          "height": 458
        },
        "outputId": "deb5c2a9-cd85-4ad5-a7a9-43ab15efbb3c"
      },
      "execution_count": 7,
      "outputs": [
        {
          "output_type": "execute_result",
          "data": {
            "text/plain": [
              "                            count unique   top freq        mean         std  \\\n",
              "age                         583.0    NaN   NaN  NaN   44.746141   16.189833   \n",
              "gender                        583      2  Male  441         NaN         NaN   \n",
              "total_bilirubin             583.0    NaN   NaN  NaN    3.298799    6.209522   \n",
              "direct_bilirubin            583.0    NaN   NaN  NaN    1.486106    2.808498   \n",
              "alkaline_phosphotase        583.0    NaN   NaN  NaN  290.576329  242.937989   \n",
              "alamine_aminotransferase    583.0    NaN   NaN  NaN   80.713551  182.620356   \n",
              "aspartate_aminotransferase  583.0    NaN   NaN  NaN  109.910806  288.918529   \n",
              "total_protiens              583.0    NaN   NaN  NaN     6.48319    1.085451   \n",
              "albumin                     583.0    NaN   NaN  NaN    3.141852    0.795519   \n",
              "albumin_and_globulin_ratio  579.0    NaN   NaN  NaN    0.947064    0.319592   \n",
              "dataset                     583.0    NaN   NaN  NaN    1.286449     0.45249   \n",
              "\n",
              "                             min    25%    50%    75%     max  \n",
              "age                          4.0   33.0   45.0   58.0    90.0  \n",
              "gender                       NaN    NaN    NaN    NaN     NaN  \n",
              "total_bilirubin              0.4    0.8    1.0    2.6    75.0  \n",
              "direct_bilirubin             0.1    0.2    0.3    1.3    19.7  \n",
              "alkaline_phosphotase        63.0  175.5  208.0  298.0  2110.0  \n",
              "alamine_aminotransferase    10.0   23.0   35.0   60.5  2000.0  \n",
              "aspartate_aminotransferase  10.0   25.0   42.0   87.0  4929.0  \n",
              "total_protiens               2.7    5.8    6.6    7.2     9.6  \n",
              "albumin                      0.9    2.6    3.1    3.8     5.5  \n",
              "albumin_and_globulin_ratio   0.3    0.7   0.93    1.1     2.8  \n",
              "dataset                      1.0    1.0    1.0    2.0     2.0  "
            ],
            "text/html": [
              "\n",
              "  <div id=\"df-f06d357a-a2bf-45d7-90c8-407ac2c1bf50\">\n",
              "    <div class=\"colab-df-container\">\n",
              "      <div>\n",
              "<style scoped>\n",
              "    .dataframe tbody tr th:only-of-type {\n",
              "        vertical-align: middle;\n",
              "    }\n",
              "\n",
              "    .dataframe tbody tr th {\n",
              "        vertical-align: top;\n",
              "    }\n",
              "\n",
              "    .dataframe thead th {\n",
              "        text-align: right;\n",
              "    }\n",
              "</style>\n",
              "<table border=\"1\" class=\"dataframe\">\n",
              "  <thead>\n",
              "    <tr style=\"text-align: right;\">\n",
              "      <th></th>\n",
              "      <th>count</th>\n",
              "      <th>unique</th>\n",
              "      <th>top</th>\n",
              "      <th>freq</th>\n",
              "      <th>mean</th>\n",
              "      <th>std</th>\n",
              "      <th>min</th>\n",
              "      <th>25%</th>\n",
              "      <th>50%</th>\n",
              "      <th>75%</th>\n",
              "      <th>max</th>\n",
              "    </tr>\n",
              "  </thead>\n",
              "  <tbody>\n",
              "    <tr>\n",
              "      <th>age</th>\n",
              "      <td>583.0</td>\n",
              "      <td>NaN</td>\n",
              "      <td>NaN</td>\n",
              "      <td>NaN</td>\n",
              "      <td>44.746141</td>\n",
              "      <td>16.189833</td>\n",
              "      <td>4.0</td>\n",
              "      <td>33.0</td>\n",
              "      <td>45.0</td>\n",
              "      <td>58.0</td>\n",
              "      <td>90.0</td>\n",
              "    </tr>\n",
              "    <tr>\n",
              "      <th>gender</th>\n",
              "      <td>583</td>\n",
              "      <td>2</td>\n",
              "      <td>Male</td>\n",
              "      <td>441</td>\n",
              "      <td>NaN</td>\n",
              "      <td>NaN</td>\n",
              "      <td>NaN</td>\n",
              "      <td>NaN</td>\n",
              "      <td>NaN</td>\n",
              "      <td>NaN</td>\n",
              "      <td>NaN</td>\n",
              "    </tr>\n",
              "    <tr>\n",
              "      <th>total_bilirubin</th>\n",
              "      <td>583.0</td>\n",
              "      <td>NaN</td>\n",
              "      <td>NaN</td>\n",
              "      <td>NaN</td>\n",
              "      <td>3.298799</td>\n",
              "      <td>6.209522</td>\n",
              "      <td>0.4</td>\n",
              "      <td>0.8</td>\n",
              "      <td>1.0</td>\n",
              "      <td>2.6</td>\n",
              "      <td>75.0</td>\n",
              "    </tr>\n",
              "    <tr>\n",
              "      <th>direct_bilirubin</th>\n",
              "      <td>583.0</td>\n",
              "      <td>NaN</td>\n",
              "      <td>NaN</td>\n",
              "      <td>NaN</td>\n",
              "      <td>1.486106</td>\n",
              "      <td>2.808498</td>\n",
              "      <td>0.1</td>\n",
              "      <td>0.2</td>\n",
              "      <td>0.3</td>\n",
              "      <td>1.3</td>\n",
              "      <td>19.7</td>\n",
              "    </tr>\n",
              "    <tr>\n",
              "      <th>alkaline_phosphotase</th>\n",
              "      <td>583.0</td>\n",
              "      <td>NaN</td>\n",
              "      <td>NaN</td>\n",
              "      <td>NaN</td>\n",
              "      <td>290.576329</td>\n",
              "      <td>242.937989</td>\n",
              "      <td>63.0</td>\n",
              "      <td>175.5</td>\n",
              "      <td>208.0</td>\n",
              "      <td>298.0</td>\n",
              "      <td>2110.0</td>\n",
              "    </tr>\n",
              "    <tr>\n",
              "      <th>alamine_aminotransferase</th>\n",
              "      <td>583.0</td>\n",
              "      <td>NaN</td>\n",
              "      <td>NaN</td>\n",
              "      <td>NaN</td>\n",
              "      <td>80.713551</td>\n",
              "      <td>182.620356</td>\n",
              "      <td>10.0</td>\n",
              "      <td>23.0</td>\n",
              "      <td>35.0</td>\n",
              "      <td>60.5</td>\n",
              "      <td>2000.0</td>\n",
              "    </tr>\n",
              "    <tr>\n",
              "      <th>aspartate_aminotransferase</th>\n",
              "      <td>583.0</td>\n",
              "      <td>NaN</td>\n",
              "      <td>NaN</td>\n",
              "      <td>NaN</td>\n",
              "      <td>109.910806</td>\n",
              "      <td>288.918529</td>\n",
              "      <td>10.0</td>\n",
              "      <td>25.0</td>\n",
              "      <td>42.0</td>\n",
              "      <td>87.0</td>\n",
              "      <td>4929.0</td>\n",
              "    </tr>\n",
              "    <tr>\n",
              "      <th>total_protiens</th>\n",
              "      <td>583.0</td>\n",
              "      <td>NaN</td>\n",
              "      <td>NaN</td>\n",
              "      <td>NaN</td>\n",
              "      <td>6.48319</td>\n",
              "      <td>1.085451</td>\n",
              "      <td>2.7</td>\n",
              "      <td>5.8</td>\n",
              "      <td>6.6</td>\n",
              "      <td>7.2</td>\n",
              "      <td>9.6</td>\n",
              "    </tr>\n",
              "    <tr>\n",
              "      <th>albumin</th>\n",
              "      <td>583.0</td>\n",
              "      <td>NaN</td>\n",
              "      <td>NaN</td>\n",
              "      <td>NaN</td>\n",
              "      <td>3.141852</td>\n",
              "      <td>0.795519</td>\n",
              "      <td>0.9</td>\n",
              "      <td>2.6</td>\n",
              "      <td>3.1</td>\n",
              "      <td>3.8</td>\n",
              "      <td>5.5</td>\n",
              "    </tr>\n",
              "    <tr>\n",
              "      <th>albumin_and_globulin_ratio</th>\n",
              "      <td>579.0</td>\n",
              "      <td>NaN</td>\n",
              "      <td>NaN</td>\n",
              "      <td>NaN</td>\n",
              "      <td>0.947064</td>\n",
              "      <td>0.319592</td>\n",
              "      <td>0.3</td>\n",
              "      <td>0.7</td>\n",
              "      <td>0.93</td>\n",
              "      <td>1.1</td>\n",
              "      <td>2.8</td>\n",
              "    </tr>\n",
              "    <tr>\n",
              "      <th>dataset</th>\n",
              "      <td>583.0</td>\n",
              "      <td>NaN</td>\n",
              "      <td>NaN</td>\n",
              "      <td>NaN</td>\n",
              "      <td>1.286449</td>\n",
              "      <td>0.45249</td>\n",
              "      <td>1.0</td>\n",
              "      <td>1.0</td>\n",
              "      <td>1.0</td>\n",
              "      <td>2.0</td>\n",
              "      <td>2.0</td>\n",
              "    </tr>\n",
              "  </tbody>\n",
              "</table>\n",
              "</div>\n",
              "      <button class=\"colab-df-convert\" onclick=\"convertToInteractive('df-f06d357a-a2bf-45d7-90c8-407ac2c1bf50')\"\n",
              "              title=\"Convert this dataframe to an interactive table.\"\n",
              "              style=\"display:none;\">\n",
              "        \n",
              "  <svg xmlns=\"http://www.w3.org/2000/svg\" height=\"24px\"viewBox=\"0 0 24 24\"\n",
              "       width=\"24px\">\n",
              "    <path d=\"M0 0h24v24H0V0z\" fill=\"none\"/>\n",
              "    <path d=\"M18.56 5.44l.94 2.06.94-2.06 2.06-.94-2.06-.94-.94-2.06-.94 2.06-2.06.94zm-11 1L8.5 8.5l.94-2.06 2.06-.94-2.06-.94L8.5 2.5l-.94 2.06-2.06.94zm10 10l.94 2.06.94-2.06 2.06-.94-2.06-.94-.94-2.06-.94 2.06-2.06.94z\"/><path d=\"M17.41 7.96l-1.37-1.37c-.4-.4-.92-.59-1.43-.59-.52 0-1.04.2-1.43.59L10.3 9.45l-7.72 7.72c-.78.78-.78 2.05 0 2.83L4 21.41c.39.39.9.59 1.41.59.51 0 1.02-.2 1.41-.59l7.78-7.78 2.81-2.81c.8-.78.8-2.07 0-2.86zM5.41 20L4 18.59l7.72-7.72 1.47 1.35L5.41 20z\"/>\n",
              "  </svg>\n",
              "      </button>\n",
              "      \n",
              "  <style>\n",
              "    .colab-df-container {\n",
              "      display:flex;\n",
              "      flex-wrap:wrap;\n",
              "      gap: 12px;\n",
              "    }\n",
              "\n",
              "    .colab-df-convert {\n",
              "      background-color: #E8F0FE;\n",
              "      border: none;\n",
              "      border-radius: 50%;\n",
              "      cursor: pointer;\n",
              "      display: none;\n",
              "      fill: #1967D2;\n",
              "      height: 32px;\n",
              "      padding: 0 0 0 0;\n",
              "      width: 32px;\n",
              "    }\n",
              "\n",
              "    .colab-df-convert:hover {\n",
              "      background-color: #E2EBFA;\n",
              "      box-shadow: 0px 1px 2px rgba(60, 64, 67, 0.3), 0px 1px 3px 1px rgba(60, 64, 67, 0.15);\n",
              "      fill: #174EA6;\n",
              "    }\n",
              "\n",
              "    [theme=dark] .colab-df-convert {\n",
              "      background-color: #3B4455;\n",
              "      fill: #D2E3FC;\n",
              "    }\n",
              "\n",
              "    [theme=dark] .colab-df-convert:hover {\n",
              "      background-color: #434B5C;\n",
              "      box-shadow: 0px 1px 3px 1px rgba(0, 0, 0, 0.15);\n",
              "      filter: drop-shadow(0px 1px 2px rgba(0, 0, 0, 0.3));\n",
              "      fill: #FFFFFF;\n",
              "    }\n",
              "  </style>\n",
              "\n",
              "      <script>\n",
              "        const buttonEl =\n",
              "          document.querySelector('#df-f06d357a-a2bf-45d7-90c8-407ac2c1bf50 button.colab-df-convert');\n",
              "        buttonEl.style.display =\n",
              "          google.colab.kernel.accessAllowed ? 'block' : 'none';\n",
              "\n",
              "        async function convertToInteractive(key) {\n",
              "          const element = document.querySelector('#df-f06d357a-a2bf-45d7-90c8-407ac2c1bf50');\n",
              "          const dataTable =\n",
              "            await google.colab.kernel.invokeFunction('convertToInteractive',\n",
              "                                                     [key], {});\n",
              "          if (!dataTable) return;\n",
              "\n",
              "          const docLinkHtml = 'Like what you see? Visit the ' +\n",
              "            '<a target=\"_blank\" href=https://colab.research.google.com/notebooks/data_table.ipynb>data table notebook</a>'\n",
              "            + ' to learn more about interactive tables.';\n",
              "          element.innerHTML = '';\n",
              "          dataTable['output_type'] = 'display_data';\n",
              "          await google.colab.output.renderOutput(dataTable, element);\n",
              "          const docLink = document.createElement('div');\n",
              "          docLink.innerHTML = docLinkHtml;\n",
              "          element.appendChild(docLink);\n",
              "        }\n",
              "      </script>\n",
              "    </div>\n",
              "  </div>\n",
              "  "
            ]
          },
          "metadata": {},
          "execution_count": 7
        }
      ]
    },
    {
      "cell_type": "markdown",
      "source": [
        "**What can we see from describe & info ?**\n",
        "\n",
        "\n",
        "* for gender we have 2 unique values - sounds reasonable\n",
        "* there seems to be extremes for several fields (compare 75% with max) - we will have to fix it\n",
        "\n",
        "\n",
        "   \n",
        "\n",
        "* dataset, our target variable, has 2 values\n",
        "* albumin_and_globulin_ratio have some missing values those must be handled\n",
        "  \n",
        " \n",
        "**Handle missing values**\n",
        "  We are going to fix missing values on albumin_and_globulin_ratio field,easiest way is often best way, so just replace it with mean or median\n",
        "\n",
        "\n"
      ],
      "metadata": {
        "id": "rsC-44Nr_T7x"
      }
    },
    {
      "cell_type": "code",
      "source": [
        "df.albumin_and_globulin_ratio.fillna(df.albumin_and_globulin_ratio.mean(), inplace=True)\n"
      ],
      "metadata": {
        "id": "vEiLIsxMC1-Y"
      },
      "execution_count": 8,
      "outputs": []
    },
    {
      "cell_type": "code",
      "source": [
        "df.info()\n"
      ],
      "metadata": {
        "id": "Fr8GrqMACuXl",
        "colab": {
          "base_uri": "https://localhost:8080/"
        },
        "outputId": "07bac02d-8678-4edc-decf-d8dd9a8d2ec7"
      },
      "execution_count": 9,
      "outputs": [
        {
          "output_type": "stream",
          "name": "stdout",
          "text": [
            "<class 'pandas.core.frame.DataFrame'>\n",
            "RangeIndex: 583 entries, 0 to 582\n",
            "Data columns (total 11 columns):\n",
            " #   Column                      Non-Null Count  Dtype  \n",
            "---  ------                      --------------  -----  \n",
            " 0   age                         583 non-null    int64  \n",
            " 1   gender                      583 non-null    object \n",
            " 2   total_bilirubin             583 non-null    float64\n",
            " 3   direct_bilirubin            583 non-null    float64\n",
            " 4   alkaline_phosphotase        583 non-null    int64  \n",
            " 5   alamine_aminotransferase    583 non-null    int64  \n",
            " 6   aspartate_aminotransferase  583 non-null    int64  \n",
            " 7   total_protiens              583 non-null    float64\n",
            " 8   albumin                     583 non-null    float64\n",
            " 9   albumin_and_globulin_ratio  583 non-null    float64\n",
            " 10  dataset                     583 non-null    int64  \n",
            "dtypes: float64(5), int64(5), object(1)\n",
            "memory usage: 50.2+ KB\n"
          ]
        }
      ]
    },
    {
      "cell_type": "markdown",
      "source": [
        "**Let's start exploratory data analysis(EDA)**\n",
        "   Most datascientist will tell you that EDA is most funny part of datascience work. You are exploring different relations between data and how they interact... so do it\n",
        " "
      ],
      "metadata": {
        "id": "FefauhjLDM1f"
      }
    },
    {
      "cell_type": "code",
      "source": [
        "# # correlation between variables\n",
        "# sns.set()\n",
        "# sns.pairplot(df, kind='reg')"
      ],
      "metadata": {
        "id": "zQ6yEhrQEvAP"
      },
      "execution_count": 12,
      "outputs": []
    },
    {
      "cell_type": "code",
      "source": [
        "# # correlation between variables\n",
        "# sns.set()\n",
        "# sns.pairplot(df, hue='dataset', kind='reg')"
      ],
      "metadata": {
        "id": "xszk9ppNEyzh"
      },
      "execution_count": 13,
      "outputs": []
    },
    {
      "cell_type": "code",
      "source": [
        "# correlation with dataset - target value\n",
        "df.corr()['dataset']"
      ],
      "metadata": {
        "id": "ileLpmw7E3YK",
        "colab": {
          "base_uri": "https://localhost:8080/"
        },
        "outputId": "231ff6c9-98f5-43ea-973e-b092cef3b06f"
      },
      "execution_count": 14,
      "outputs": [
        {
          "output_type": "execute_result",
          "data": {
            "text/plain": [
              "age                          -0.137351\n",
              "total_bilirubin              -0.220208\n",
              "direct_bilirubin             -0.246046\n",
              "alkaline_phosphotase         -0.184866\n",
              "alamine_aminotransferase     -0.163416\n",
              "aspartate_aminotransferase   -0.151934\n",
              "total_protiens                0.035008\n",
              "albumin                       0.161388\n",
              "albumin_and_globulin_ratio    0.162319\n",
              "dataset                       1.000000\n",
              "Name: dataset, dtype: float64"
            ]
          },
          "metadata": {},
          "execution_count": 14
        }
      ]
    },
    {
      "cell_type": "code",
      "source": [
        "# full correlation table\n",
        "df.corr().style.background_gradient(cmap='viridis')"
      ],
      "metadata": {
        "id": "HwGfYJI0E7F9",
        "colab": {
          "base_uri": "https://localhost:8080/",
          "height": 383
        },
        "outputId": "64628db2-34eb-480b-bc78-3f2cc0cd4a7a"
      },
      "execution_count": 15,
      "outputs": [
        {
          "output_type": "execute_result",
          "data": {
            "text/plain": [
              "<pandas.io.formats.style.Styler at 0x7f1857f8a450>"
            ],
            "text/html": [
              "<style type=\"text/css\">\n",
              "#T_0d9ad_row0_col0, #T_0d9ad_row1_col1, #T_0d9ad_row2_col2, #T_0d9ad_row3_col3, #T_0d9ad_row4_col4, #T_0d9ad_row5_col5, #T_0d9ad_row6_col6, #T_0d9ad_row7_col7, #T_0d9ad_row8_col8, #T_0d9ad_row9_col9 {\n",
              "  background-color: #fde725;\n",
              "  color: #000000;\n",
              "}\n",
              "#T_0d9ad_row0_col1, #T_0d9ad_row5_col0 {\n",
              "  background-color: #424186;\n",
              "  color: #f1f1f1;\n",
              "}\n",
              "#T_0d9ad_row0_col2 {\n",
              "  background-color: #404588;\n",
              "  color: #f1f1f1;\n",
              "}\n",
              "#T_0d9ad_row0_col3 {\n",
              "  background-color: #3a538b;\n",
              "  color: #f1f1f1;\n",
              "}\n",
              "#T_0d9ad_row0_col4, #T_0d9ad_row4_col9 {\n",
              "  background-color: #48186a;\n",
              "  color: #f1f1f1;\n",
              "}\n",
              "#T_0d9ad_row0_col5, #T_0d9ad_row7_col4 {\n",
              "  background-color: #482979;\n",
              "  color: #f1f1f1;\n",
              "}\n",
              "#T_0d9ad_row0_col6, #T_0d9ad_row0_col7, #T_0d9ad_row2_col9, #T_0d9ad_row3_col8, #T_0d9ad_row7_col0, #T_0d9ad_row7_col1, #T_0d9ad_row8_col3, #T_0d9ad_row9_col1, #T_0d9ad_row9_col2, #T_0d9ad_row9_col4, #T_0d9ad_row9_col5 {\n",
              "  background-color: #440154;\n",
              "  color: #f1f1f1;\n",
              "}\n",
              "#T_0d9ad_row0_col8, #T_0d9ad_row7_col2, #T_0d9ad_row8_col1 {\n",
              "  background-color: #450559;\n",
              "  color: #f1f1f1;\n",
              "}\n",
              "#T_0d9ad_row0_col9 {\n",
              "  background-color: #482071;\n",
              "  color: #f1f1f1;\n",
              "}\n",
              "#T_0d9ad_row1_col0 {\n",
              "  background-color: #3e4989;\n",
              "  color: #f1f1f1;\n",
              "}\n",
              "#T_0d9ad_row1_col2 {\n",
              "  background-color: #bddf26;\n",
              "  color: #000000;\n",
              "}\n",
              "#T_0d9ad_row1_col3, #T_0d9ad_row2_col5, #T_0d9ad_row4_col1 {\n",
              "  background-color: #2e6e8e;\n",
              "  color: #f1f1f1;\n",
              "}\n",
              "#T_0d9ad_row1_col4, #T_0d9ad_row5_col3, #T_0d9ad_row7_col9, #T_0d9ad_row8_col9 {\n",
              "  background-color: #31668e;\n",
              "  color: #f1f1f1;\n",
              "}\n",
              "#T_0d9ad_row1_col5, #T_0d9ad_row9_col7 {\n",
              "  background-color: #30698e;\n",
              "  color: #f1f1f1;\n",
              "}\n",
              "#T_0d9ad_row1_col6 {\n",
              "  background-color: #463480;\n",
              "  color: #f1f1f1;\n",
              "}\n",
              "#T_0d9ad_row1_col7 {\n",
              "  background-color: #470d60;\n",
              "  color: #f1f1f1;\n",
              "}\n",
              "#T_0d9ad_row1_col8, #T_0d9ad_row1_col9 {\n",
              "  background-color: #46085c;\n",
              "  color: #f1f1f1;\n",
              "}\n",
              "#T_0d9ad_row2_col0 {\n",
              "  background-color: #3f4889;\n",
              "  color: #f1f1f1;\n",
              "}\n",
              "#T_0d9ad_row2_col1 {\n",
              "  background-color: #bade28;\n",
              "  color: #000000;\n",
              "}\n",
              "#T_0d9ad_row2_col3, #T_0d9ad_row6_col8 {\n",
              "  background-color: #2c738e;\n",
              "  color: #f1f1f1;\n",
              "}\n",
              "#T_0d9ad_row2_col4 {\n",
              "  background-color: #306a8e;\n",
              "  color: #f1f1f1;\n",
              "}\n",
              "#T_0d9ad_row2_col6 {\n",
              "  background-color: #453781;\n",
              "  color: #f1f1f1;\n",
              "}\n",
              "#T_0d9ad_row2_col7, #T_0d9ad_row2_col8 {\n",
              "  background-color: #460b5e;\n",
              "  color: #f1f1f1;\n",
              "}\n",
              "#T_0d9ad_row3_col0, #T_0d9ad_row3_col5 {\n",
              "  background-color: #38598c;\n",
              "  color: #f1f1f1;\n",
              "}\n",
              "#T_0d9ad_row3_col1 {\n",
              "  background-color: #2f6c8e;\n",
              "  color: #f1f1f1;\n",
              "}\n",
              "#T_0d9ad_row3_col2, #T_0d9ad_row4_col2 {\n",
              "  background-color: #2b748e;\n",
              "  color: #f1f1f1;\n",
              "}\n",
              "#T_0d9ad_row3_col4 {\n",
              "  background-color: #3b518b;\n",
              "  color: #f1f1f1;\n",
              "}\n",
              "#T_0d9ad_row3_col6, #T_0d9ad_row5_col6, #T_0d9ad_row5_col8 {\n",
              "  background-color: #472f7d;\n",
              "  color: #f1f1f1;\n",
              "}\n",
              "#T_0d9ad_row3_col7 {\n",
              "  background-color: #481d6f;\n",
              "  color: #f1f1f1;\n",
              "}\n",
              "#T_0d9ad_row3_col9 {\n",
              "  background-color: #471365;\n",
              "  color: #f1f1f1;\n",
              "}\n",
              "#T_0d9ad_row4_col0, #T_0d9ad_row5_col7 {\n",
              "  background-color: #46327e;\n",
              "  color: #f1f1f1;\n",
              "}\n",
              "#T_0d9ad_row4_col3 {\n",
              "  background-color: #365d8d;\n",
              "  color: #f1f1f1;\n",
              "}\n",
              "#T_0d9ad_row4_col5, #T_0d9ad_row7_col6 {\n",
              "  background-color: #86d549;\n",
              "  color: #000000;\n",
              "}\n",
              "#T_0d9ad_row4_col6 {\n",
              "  background-color: #472c7a;\n",
              "  color: #f1f1f1;\n",
              "}\n",
              "#T_0d9ad_row4_col7, #T_0d9ad_row9_col6 {\n",
              "  background-color: #423f85;\n",
              "  color: #f1f1f1;\n",
              "}\n",
              "#T_0d9ad_row4_col8 {\n",
              "  background-color: #424086;\n",
              "  color: #f1f1f1;\n",
              "}\n",
              "#T_0d9ad_row5_col1 {\n",
              "  background-color: #2c728e;\n",
              "  color: #f1f1f1;\n",
              "}\n",
              "#T_0d9ad_row5_col2 {\n",
              "  background-color: #29798e;\n",
              "  color: #f1f1f1;\n",
              "}\n",
              "#T_0d9ad_row5_col4 {\n",
              "  background-color: #89d548;\n",
              "  color: #000000;\n",
              "}\n",
              "#T_0d9ad_row5_col9 {\n",
              "  background-color: #481c6e;\n",
              "  color: #f1f1f1;\n",
              "}\n",
              "#T_0d9ad_row6_col0 {\n",
              "  background-color: #481769;\n",
              "  color: #f1f1f1;\n",
              "}\n",
              "#T_0d9ad_row6_col1 {\n",
              "  background-color: #443b84;\n",
              "  color: #f1f1f1;\n",
              "}\n",
              "#T_0d9ad_row6_col2 {\n",
              "  background-color: #414287;\n",
              "  color: #f1f1f1;\n",
              "}\n",
              "#T_0d9ad_row6_col3 {\n",
              "  background-color: #443983;\n",
              "  color: #f1f1f1;\n",
              "}\n",
              "#T_0d9ad_row6_col4, #T_0d9ad_row9_col0 {\n",
              "  background-color: #482576;\n",
              "  color: #f1f1f1;\n",
              "}\n",
              "#T_0d9ad_row6_col5 {\n",
              "  background-color: #482878;\n",
              "  color: #f1f1f1;\n",
              "}\n",
              "#T_0d9ad_row6_col7 {\n",
              "  background-color: #8ed645;\n",
              "  color: #000000;\n",
              "}\n",
              "#T_0d9ad_row6_col9 {\n",
              "  background-color: #3e4a89;\n",
              "  color: #f1f1f1;\n",
              "}\n",
              "#T_0d9ad_row7_col3, #T_0d9ad_row7_col5 {\n",
              "  background-color: #481668;\n",
              "  color: #f1f1f1;\n",
              "}\n",
              "#T_0d9ad_row7_col8 {\n",
              "  background-color: #5ac864;\n",
              "  color: #000000;\n",
              "}\n",
              "#T_0d9ad_row8_col0, #T_0d9ad_row9_col3 {\n",
              "  background-color: #471063;\n",
              "  color: #f1f1f1;\n",
              "}\n",
              "#T_0d9ad_row8_col2 {\n",
              "  background-color: #470e61;\n",
              "  color: #f1f1f1;\n",
              "}\n",
              "#T_0d9ad_row8_col4 {\n",
              "  background-color: #46307e;\n",
              "  color: #f1f1f1;\n",
              "}\n",
              "#T_0d9ad_row8_col5 {\n",
              "  background-color: #481b6d;\n",
              "  color: #f1f1f1;\n",
              "}\n",
              "#T_0d9ad_row8_col6 {\n",
              "  background-color: #2e6d8e;\n",
              "  color: #f1f1f1;\n",
              "}\n",
              "#T_0d9ad_row8_col7 {\n",
              "  background-color: #5ec962;\n",
              "  color: #000000;\n",
              "}\n",
              "#T_0d9ad_row9_col8 {\n",
              "  background-color: #32658e;\n",
              "  color: #f1f1f1;\n",
              "}\n",
              "</style>\n",
              "<table id=\"T_0d9ad_\" class=\"dataframe\">\n",
              "  <thead>\n",
              "    <tr>\n",
              "      <th class=\"blank level0\" >&nbsp;</th>\n",
              "      <th class=\"col_heading level0 col0\" >age</th>\n",
              "      <th class=\"col_heading level0 col1\" >total_bilirubin</th>\n",
              "      <th class=\"col_heading level0 col2\" >direct_bilirubin</th>\n",
              "      <th class=\"col_heading level0 col3\" >alkaline_phosphotase</th>\n",
              "      <th class=\"col_heading level0 col4\" >alamine_aminotransferase</th>\n",
              "      <th class=\"col_heading level0 col5\" >aspartate_aminotransferase</th>\n",
              "      <th class=\"col_heading level0 col6\" >total_protiens</th>\n",
              "      <th class=\"col_heading level0 col7\" >albumin</th>\n",
              "      <th class=\"col_heading level0 col8\" >albumin_and_globulin_ratio</th>\n",
              "      <th class=\"col_heading level0 col9\" >dataset</th>\n",
              "    </tr>\n",
              "  </thead>\n",
              "  <tbody>\n",
              "    <tr>\n",
              "      <th id=\"T_0d9ad_level0_row0\" class=\"row_heading level0 row0\" >age</th>\n",
              "      <td id=\"T_0d9ad_row0_col0\" class=\"data row0 col0\" >1.000000</td>\n",
              "      <td id=\"T_0d9ad_row0_col1\" class=\"data row0 col1\" >0.011763</td>\n",
              "      <td id=\"T_0d9ad_row0_col2\" class=\"data row0 col2\" >0.007529</td>\n",
              "      <td id=\"T_0d9ad_row0_col3\" class=\"data row0 col3\" >0.080425</td>\n",
              "      <td id=\"T_0d9ad_row0_col4\" class=\"data row0 col4\" >-0.086883</td>\n",
              "      <td id=\"T_0d9ad_row0_col5\" class=\"data row0 col5\" >-0.019910</td>\n",
              "      <td id=\"T_0d9ad_row0_col6\" class=\"data row0 col6\" >-0.187461</td>\n",
              "      <td id=\"T_0d9ad_row0_col7\" class=\"data row0 col7\" >-0.265924</td>\n",
              "      <td id=\"T_0d9ad_row0_col8\" class=\"data row0 col8\" >-0.216089</td>\n",
              "      <td id=\"T_0d9ad_row0_col9\" class=\"data row0 col9\" >-0.137351</td>\n",
              "    </tr>\n",
              "    <tr>\n",
              "      <th id=\"T_0d9ad_level0_row1\" class=\"row_heading level0 row1\" >total_bilirubin</th>\n",
              "      <td id=\"T_0d9ad_row1_col0\" class=\"data row1 col0\" >0.011763</td>\n",
              "      <td id=\"T_0d9ad_row1_col1\" class=\"data row1 col1\" >1.000000</td>\n",
              "      <td id=\"T_0d9ad_row1_col2\" class=\"data row1 col2\" >0.874618</td>\n",
              "      <td id=\"T_0d9ad_row1_col3\" class=\"data row1 col3\" >0.206669</td>\n",
              "      <td id=\"T_0d9ad_row1_col4\" class=\"data row1 col4\" >0.214065</td>\n",
              "      <td id=\"T_0d9ad_row1_col5\" class=\"data row1 col5\" >0.237831</td>\n",
              "      <td id=\"T_0d9ad_row1_col6\" class=\"data row1 col6\" >-0.008099</td>\n",
              "      <td id=\"T_0d9ad_row1_col7\" class=\"data row1 col7\" >-0.222250</td>\n",
              "      <td id=\"T_0d9ad_row1_col8\" class=\"data row1 col8\" >-0.206159</td>\n",
              "      <td id=\"T_0d9ad_row1_col9\" class=\"data row1 col9\" >-0.220208</td>\n",
              "    </tr>\n",
              "    <tr>\n",
              "      <th id=\"T_0d9ad_level0_row2\" class=\"row_heading level0 row2\" >direct_bilirubin</th>\n",
              "      <td id=\"T_0d9ad_row2_col0\" class=\"data row2 col0\" >0.007529</td>\n",
              "      <td id=\"T_0d9ad_row2_col1\" class=\"data row2 col1\" >0.874618</td>\n",
              "      <td id=\"T_0d9ad_row2_col2\" class=\"data row2 col2\" >1.000000</td>\n",
              "      <td id=\"T_0d9ad_row2_col3\" class=\"data row2 col3\" >0.234939</td>\n",
              "      <td id=\"T_0d9ad_row2_col4\" class=\"data row2 col4\" >0.233894</td>\n",
              "      <td id=\"T_0d9ad_row2_col5\" class=\"data row2 col5\" >0.257544</td>\n",
              "      <td id=\"T_0d9ad_row2_col6\" class=\"data row2 col6\" >-0.000139</td>\n",
              "      <td id=\"T_0d9ad_row2_col7\" class=\"data row2 col7\" >-0.228531</td>\n",
              "      <td id=\"T_0d9ad_row2_col8\" class=\"data row2 col8\" >-0.200004</td>\n",
              "      <td id=\"T_0d9ad_row2_col9\" class=\"data row2 col9\" >-0.246046</td>\n",
              "    </tr>\n",
              "    <tr>\n",
              "      <th id=\"T_0d9ad_level0_row3\" class=\"row_heading level0 row3\" >alkaline_phosphotase</th>\n",
              "      <td id=\"T_0d9ad_row3_col0\" class=\"data row3 col0\" >0.080425</td>\n",
              "      <td id=\"T_0d9ad_row3_col1\" class=\"data row3 col1\" >0.206669</td>\n",
              "      <td id=\"T_0d9ad_row3_col2\" class=\"data row3 col2\" >0.234939</td>\n",
              "      <td id=\"T_0d9ad_row3_col3\" class=\"data row3 col3\" >1.000000</td>\n",
              "      <td id=\"T_0d9ad_row3_col4\" class=\"data row3 col4\" >0.125680</td>\n",
              "      <td id=\"T_0d9ad_row3_col5\" class=\"data row3 col5\" >0.167196</td>\n",
              "      <td id=\"T_0d9ad_row3_col6\" class=\"data row3 col6\" >-0.028514</td>\n",
              "      <td id=\"T_0d9ad_row3_col7\" class=\"data row3 col7\" >-0.165453</td>\n",
              "      <td id=\"T_0d9ad_row3_col8\" class=\"data row3 col8\" >-0.233960</td>\n",
              "      <td id=\"T_0d9ad_row3_col9\" class=\"data row3 col9\" >-0.184866</td>\n",
              "    </tr>\n",
              "    <tr>\n",
              "      <th id=\"T_0d9ad_level0_row4\" class=\"row_heading level0 row4\" >alamine_aminotransferase</th>\n",
              "      <td id=\"T_0d9ad_row4_col0\" class=\"data row4 col0\" >-0.086883</td>\n",
              "      <td id=\"T_0d9ad_row4_col1\" class=\"data row4 col1\" >0.214065</td>\n",
              "      <td id=\"T_0d9ad_row4_col2\" class=\"data row4 col2\" >0.233894</td>\n",
              "      <td id=\"T_0d9ad_row4_col3\" class=\"data row4 col3\" >0.125680</td>\n",
              "      <td id=\"T_0d9ad_row4_col4\" class=\"data row4 col4\" >1.000000</td>\n",
              "      <td id=\"T_0d9ad_row4_col5\" class=\"data row4 col5\" >0.791966</td>\n",
              "      <td id=\"T_0d9ad_row4_col6\" class=\"data row4 col6\" >-0.042518</td>\n",
              "      <td id=\"T_0d9ad_row4_col7\" class=\"data row4 col7\" >-0.029742</td>\n",
              "      <td id=\"T_0d9ad_row4_col8\" class=\"data row4 col8\" >-0.002374</td>\n",
              "      <td id=\"T_0d9ad_row4_col9\" class=\"data row4 col9\" >-0.163416</td>\n",
              "    </tr>\n",
              "    <tr>\n",
              "      <th id=\"T_0d9ad_level0_row5\" class=\"row_heading level0 row5\" >aspartate_aminotransferase</th>\n",
              "      <td id=\"T_0d9ad_row5_col0\" class=\"data row5 col0\" >-0.019910</td>\n",
              "      <td id=\"T_0d9ad_row5_col1\" class=\"data row5 col1\" >0.237831</td>\n",
              "      <td id=\"T_0d9ad_row5_col2\" class=\"data row5 col2\" >0.257544</td>\n",
              "      <td id=\"T_0d9ad_row5_col3\" class=\"data row5 col3\" >0.167196</td>\n",
              "      <td id=\"T_0d9ad_row5_col4\" class=\"data row5 col4\" >0.791966</td>\n",
              "      <td id=\"T_0d9ad_row5_col5\" class=\"data row5 col5\" >1.000000</td>\n",
              "      <td id=\"T_0d9ad_row5_col6\" class=\"data row5 col6\" >-0.025645</td>\n",
              "      <td id=\"T_0d9ad_row5_col7\" class=\"data row5 col7\" >-0.085290</td>\n",
              "      <td id=\"T_0d9ad_row5_col8\" class=\"data row5 col8\" >-0.070024</td>\n",
              "      <td id=\"T_0d9ad_row5_col9\" class=\"data row5 col9\" >-0.151934</td>\n",
              "    </tr>\n",
              "    <tr>\n",
              "      <th id=\"T_0d9ad_level0_row6\" class=\"row_heading level0 row6\" >total_protiens</th>\n",
              "      <td id=\"T_0d9ad_row6_col0\" class=\"data row6 col0\" >-0.187461</td>\n",
              "      <td id=\"T_0d9ad_row6_col1\" class=\"data row6 col1\" >-0.008099</td>\n",
              "      <td id=\"T_0d9ad_row6_col2\" class=\"data row6 col2\" >-0.000139</td>\n",
              "      <td id=\"T_0d9ad_row6_col3\" class=\"data row6 col3\" >-0.028514</td>\n",
              "      <td id=\"T_0d9ad_row6_col4\" class=\"data row6 col4\" >-0.042518</td>\n",
              "      <td id=\"T_0d9ad_row6_col5\" class=\"data row6 col5\" >-0.025645</td>\n",
              "      <td id=\"T_0d9ad_row6_col6\" class=\"data row6 col6\" >1.000000</td>\n",
              "      <td id=\"T_0d9ad_row6_col7\" class=\"data row6 col7\" >0.784053</td>\n",
              "      <td id=\"T_0d9ad_row6_col8\" class=\"data row6 col8\" >0.233904</td>\n",
              "      <td id=\"T_0d9ad_row6_col9\" class=\"data row6 col9\" >0.035008</td>\n",
              "    </tr>\n",
              "    <tr>\n",
              "      <th id=\"T_0d9ad_level0_row7\" class=\"row_heading level0 row7\" >albumin</th>\n",
              "      <td id=\"T_0d9ad_row7_col0\" class=\"data row7 col0\" >-0.265924</td>\n",
              "      <td id=\"T_0d9ad_row7_col1\" class=\"data row7 col1\" >-0.222250</td>\n",
              "      <td id=\"T_0d9ad_row7_col2\" class=\"data row7 col2\" >-0.228531</td>\n",
              "      <td id=\"T_0d9ad_row7_col3\" class=\"data row7 col3\" >-0.165453</td>\n",
              "      <td id=\"T_0d9ad_row7_col4\" class=\"data row7 col4\" >-0.029742</td>\n",
              "      <td id=\"T_0d9ad_row7_col5\" class=\"data row7 col5\" >-0.085290</td>\n",
              "      <td id=\"T_0d9ad_row7_col6\" class=\"data row7 col6\" >0.784053</td>\n",
              "      <td id=\"T_0d9ad_row7_col7\" class=\"data row7 col7\" >1.000000</td>\n",
              "      <td id=\"T_0d9ad_row7_col8\" class=\"data row7 col8\" >0.686322</td>\n",
              "      <td id=\"T_0d9ad_row7_col9\" class=\"data row7 col9\" >0.161388</td>\n",
              "    </tr>\n",
              "    <tr>\n",
              "      <th id=\"T_0d9ad_level0_row8\" class=\"row_heading level0 row8\" >albumin_and_globulin_ratio</th>\n",
              "      <td id=\"T_0d9ad_row8_col0\" class=\"data row8 col0\" >-0.216089</td>\n",
              "      <td id=\"T_0d9ad_row8_col1\" class=\"data row8 col1\" >-0.206159</td>\n",
              "      <td id=\"T_0d9ad_row8_col2\" class=\"data row8 col2\" >-0.200004</td>\n",
              "      <td id=\"T_0d9ad_row8_col3\" class=\"data row8 col3\" >-0.233960</td>\n",
              "      <td id=\"T_0d9ad_row8_col4\" class=\"data row8 col4\" >-0.002374</td>\n",
              "      <td id=\"T_0d9ad_row8_col5\" class=\"data row8 col5\" >-0.070024</td>\n",
              "      <td id=\"T_0d9ad_row8_col6\" class=\"data row8 col6\" >0.233904</td>\n",
              "      <td id=\"T_0d9ad_row8_col7\" class=\"data row8 col7\" >0.686322</td>\n",
              "      <td id=\"T_0d9ad_row8_col8\" class=\"data row8 col8\" >1.000000</td>\n",
              "      <td id=\"T_0d9ad_row8_col9\" class=\"data row8 col9\" >0.162319</td>\n",
              "    </tr>\n",
              "    <tr>\n",
              "      <th id=\"T_0d9ad_level0_row9\" class=\"row_heading level0 row9\" >dataset</th>\n",
              "      <td id=\"T_0d9ad_row9_col0\" class=\"data row9 col0\" >-0.137351</td>\n",
              "      <td id=\"T_0d9ad_row9_col1\" class=\"data row9 col1\" >-0.220208</td>\n",
              "      <td id=\"T_0d9ad_row9_col2\" class=\"data row9 col2\" >-0.246046</td>\n",
              "      <td id=\"T_0d9ad_row9_col3\" class=\"data row9 col3\" >-0.184866</td>\n",
              "      <td id=\"T_0d9ad_row9_col4\" class=\"data row9 col4\" >-0.163416</td>\n",
              "      <td id=\"T_0d9ad_row9_col5\" class=\"data row9 col5\" >-0.151934</td>\n",
              "      <td id=\"T_0d9ad_row9_col6\" class=\"data row9 col6\" >0.035008</td>\n",
              "      <td id=\"T_0d9ad_row9_col7\" class=\"data row9 col7\" >0.161388</td>\n",
              "      <td id=\"T_0d9ad_row9_col8\" class=\"data row9 col8\" >0.162319</td>\n",
              "      <td id=\"T_0d9ad_row9_col9\" class=\"data row9 col9\" >1.000000</td>\n",
              "    </tr>\n",
              "  </tbody>\n",
              "</table>\n"
            ]
          },
          "metadata": {},
          "execution_count": 15
        }
      ]
    },
    {
      "cell_type": "markdown",
      "source": [
        "**Outcomes?**I've seen in many datasets there is none. Data scientist just simply show correlation and skip any actions to be done... not in this case! We have strong correlation between some variables:\n",
        "\n",
        "\n",
        "*   direct_bilirubin & total_bilirubin\n",
        "*   aspartate_aminotransferase & alamine_aminotransferase\n",
        "*   total_protiens & albumin\n",
        "*   albumin_and_globulin_ratio & albumin\n",
        "\n",
        "We will drop some of them as features should be independent\n",
        "\n",
        "\n",
        "\n"
      ],
      "metadata": {
        "id": "Z20Dc3sFFCcr"
      }
    },
    {
      "cell_type": "code",
      "source": [
        "# this is simply my selection (from highly correlated features, you could also use different from pairs)\n",
        "df.drop(['direct_bilirubin', 'aspartate_aminotransferase', 'total_protiens', 'albumin'], axis=1, inplace=True)\n"
      ],
      "metadata": {
        "id": "UhI8C2E8F0T5"
      },
      "execution_count": 16,
      "outputs": []
    },
    {
      "cell_type": "markdown",
      "source": [
        "[link text](https://)**Outliers & transformation**\n",
        "\n",
        "\n",
        "   Now check data using boxplot and distplot to see what features are skewed, what is ratio of outliers, if log1p helps etc"
      ],
      "metadata": {
        "id": "wAmWcPRjGaTP"
      }
    },
    {
      "cell_type": "code",
      "source": [
        "# outlier check\n",
        "plt.figure(figsize=(15, 20))\n",
        "\n",
        "for i, c in enumerate(df.drop('dataset', axis=1).select_dtypes(include='number').columns):\n",
        "    plt.subplot(10,2,i*2+1)\n",
        "    sns.boxplot(df[c], color='blue')\n",
        "    plt.title('Distribution plot for field:' + c)\n",
        "    plt.xlabel('')\n",
        "    plt.tight_layout(pad=0.4, w_pad=0.5, h_pad=1.0)\n",
        "\n",
        "    \n",
        "    plt.subplot(10,2,i*2+2)\n",
        "    sns.boxplot(df[c].apply('log1p'), color='red')\n",
        "    plt.title('Log1p distribution plot for field:' + c)\n",
        "    plt.xlabel('')\n",
        "    plt.tight_layout(pad=0.4, w_pad=0.5, h_pad=1.0)\n"
      ],
      "metadata": {
        "id": "cIOVeE4GGvYB",
        "colab": {
          "base_uri": "https://localhost:8080/",
          "height": 442
        },
        "outputId": "953f1071-eb74-4555-a65a-e8f6069e4fcd"
      },
      "execution_count": 17,
      "outputs": [
        {
          "output_type": "display_data",
          "data": {
            "text/plain": [
              "<Figure size 1080x1440 with 10 Axes>"
            ],
            "image/png": "[encoded data removed]"
          },
          "metadata": {}
        }
      ]
    },
    {
      "cell_type": "code",
      "source": [
        "plt.figure(figsize=(15, 12))\n",
        "\n",
        "for i, c in enumerate(df.select_dtypes(include='number').columns):\n",
        "    plt.subplot(5,2,i+1)\n",
        "    sns.distplot(df[c])\n",
        "    plt.title('Distribution plot for field:' + c)\n",
        "    plt.xlabel('')\n",
        "    plt.tight_layout(pad=0.4, w_pad=0.5, h_pad=1.0)\n"
      ],
      "metadata": {
        "id": "PqgcOWU1G-Oy",
        "colab": {
          "base_uri": "https://localhost:8080/",
          "height": 326
        },
        "outputId": "7cde0ed5-f5b8-4a1d-ad40-3414a659a66a"
      },
      "execution_count": 18,
      "outputs": [
        {
          "output_type": "display_data",
          "data": {
            "text/plain": [
              "<Figure size 1080x864 with 6 Axes>"
            ],
            "image/png": "[encoded data removed]"
          },
          "metadata": {}
        }
      ]
    },
    {
      "cell_type": "markdown",
      "source": [
        "**What can we get out of dist plot and box plot?**\n",
        " \n",
        "\n",
        "*   dataset is slightly imbalanced\n",
        "*   slightly skewed features: albumin_and_globulin_ration\n",
        "\n",
        "*   strongly skewed features: total_bilirubin, direct_bilirubin, alkaline_phosphotase, alamine_aminotransferase, aspartate_aminotransferase\n",
        "      \n",
        "      \n",
        "       We will fix these values using log1p transformation and then scale variables using RobustScaler as this one is good for data with outliers. If you think this is not good procedure, let me know!\n",
        "\n",
        "\n",
        "\n",
        "\n"
      ],
      "metadata": {
        "id": "JwFY5Z1YHN0j"
      }
    },
    {
      "cell_type": "code",
      "source": [
        "# save skewed features\n",
        "skewed_cols = ['albumin_and_globulin_ratio','total_bilirubin', 'alkaline_phosphotase', 'alamine_aminotransferase']"
      ],
      "metadata": {
        "id": "yz7-qRIFIC7Z"
      },
      "execution_count": 19,
      "outputs": []
    },
    {
      "cell_type": "code",
      "source": [
        "# Apply log1p transformation on dataframe -just selected values\n",
        "for c in skewed_cols:\n",
        "    df[c] = df[c].apply('log1p')"
      ],
      "metadata": {
        "id": "_xG2MbhcIOc5"
      },
      "execution_count": 21,
      "outputs": []
    },
    {
      "cell_type": "code",
      "source": [
        "plt.figure(figsize=(15, 12))\n",
        "\n",
        "for i, c in enumerate(skewed_cols):\n",
        "    plt.subplot(5,2,i+1)\n",
        "    sns.distplot(df[c].apply(np.log1p))\n",
        "    plt.title('Distribution plot for field:' + c)\n",
        "    plt.xlabel('')\n",
        "    plt.tight_layout(pad=0.4, w_pad=0.5, h_pad=1.0)"
      ],
      "metadata": {
        "id": "0NYni5hhIcAL",
        "colab": {
          "base_uri": "https://localhost:8080/",
          "height": 224
        },
        "outputId": "bd28d8d6-1834-41dd-968a-9be8369b0f64"
      },
      "execution_count": 22,
      "outputs": [
        {
          "output_type": "display_data",
          "data": {
            "text/plain": [
              "<Figure size 1080x864 with 4 Axes>"
            ],
            "image/png": "[encoded data removed]"
          },
          "metadata": {}
        }
      ]
    },
    {
      "cell_type": "markdown",
      "source": [
        "**Encode & Scale**\n",
        "\n",
        "I will use sklearn library to encode gender and scale numerical variables "
      ],
      "metadata": {
        "id": "1k_mGDzpGVGk"
      }
    },
    {
      "cell_type": "code",
      "source": [
        "from sklearn.preprocessing import LabelEncoder, RobustScaler\n"
      ],
      "metadata": {
        "id": "S7DnQwOhIwiE"
      },
      "execution_count": 23,
      "outputs": []
    },
    {
      "cell_type": "code",
      "source": [
        "# gender contains string values Male, Female; these will be converted into 0, 1, as ML algorithms like just numerical values\n",
        "le = LabelEncoder()\n",
        "df['gender'] = le.fit_transform(df['gender'])\n",
        "df.gender.head()"
      ],
      "metadata": {
        "id": "jlA53KJFZrUy",
        "colab": {
          "base_uri": "https://localhost:8080/"
        },
        "outputId": "45b51974-4905-4204-e3a8-ec2ee84a197c"
      },
      "execution_count": 24,
      "outputs": [
        {
          "output_type": "execute_result",
          "data": {
            "text/plain": [
              "0    0\n",
              "1    1\n",
              "2    1\n",
              "3    1\n",
              "4    1\n",
              "Name: gender, dtype: int64"
            ]
          },
          "metadata": {},
          "execution_count": 24
        }
      ]
    },
    {
      "cell_type": "code",
      "source": [
        " # rs = RobustScaler()\n",
        " # for c in df[['age', 'gender', 'total_bilirubin', 'alkaline_phosphotase', 'alamine_aminotransferase', 'albumin_and_globulin_ratio']].columns:\n",
        " #   df[c] = rs.fit_transform(df[c].values.reshape(-1, 1))\n",
        " # df.head()"
      ],
      "metadata": {
        "id": "0UupFWMYZwrf"
      },
      "execution_count": 25,
      "outputs": []
    },
    {
      "cell_type": "markdown",
      "source": [
        "Balanced data\n",
        "\n",
        "As our dataset is imbalanced, will use sklearn's sample to have same ratio of target variables(we could use also SMOTE from imbleam).This may not be needed each time as some algorithms already have techniques for imbalanced datasets"
      ],
      "metadata": {
        "id": "-ZPTjUs0G89Z"
      }
    },
    {
      "cell_type": "code",
      "source": [
        "from sklearn.utils import resample\n",
        "df.dataset.value_counts()\n"
      ],
      "metadata": {
        "id": "N8DIRGgDZ2uq",
        "colab": {
          "base_uri": "https://localhost:8080/"
        },
        "outputId": "7e9b5917-26dd-42f8-c364-5b3b64e54d2c"
      },
      "execution_count": 26,
      "outputs": [
        {
          "output_type": "execute_result",
          "data": {
            "text/plain": [
              "1    416\n",
              "2    167\n",
              "Name: dataset, dtype: int64"
            ]
          },
          "metadata": {},
          "execution_count": 26
        }
      ]
    },
    {
      "cell_type": "code",
      "source": [
        "minority = df[df.dataset==2]\n",
        "majority = df[df.dataset==1]\n",
        "\n",
        "print('Minority size:', minority.shape)\n",
        "print('Majority size:', majority.shape)"
      ],
      "metadata": {
        "id": "tP6Qfo07Z7T2",
        "colab": {
          "base_uri": "https://localhost:8080/"
        },
        "outputId": "8ac745d2-dada-4e7b-bcd4-19c2321293e6"
      },
      "execution_count": 27,
      "outputs": [
        {
          "output_type": "stream",
          "name": "stdout",
          "text": [
            "Minority size: (167, 7)\n",
            "Majority size: (416, 7)\n"
          ]
        }
      ]
    },
    {
      "cell_type": "code",
      "source": [
        "minority_upsample = resample(minority, replace=True, n_samples=majority.shape[0])\n",
        "print('Minority upsampled size:', minority_upsample.shape)"
      ],
      "metadata": {
        "id": "u7XuGCewaBAp",
        "colab": {
          "base_uri": "https://localhost:8080/"
        },
        "outputId": "a8189317-4b76-44fa-e9f2-145e8c84befa"
      },
      "execution_count": 28,
      "outputs": [
        {
          "output_type": "stream",
          "name": "stdout",
          "text": [
            "Minority upsampled size: (416, 7)\n"
          ]
        }
      ]
    },
    {
      "cell_type": "code",
      "source": [
        "df = pd.concat([minority_upsample, majority], axis=0)"
      ],
      "metadata": {
        "id": "bsklnZjuaIp-"
      },
      "execution_count": 29,
      "outputs": []
    },
    {
      "cell_type": "markdown",
      "source": [
        "Split data for modelling \n",
        "\n",
        "This is very needed in order to able to compare performance of model on unseen data. Iwill choose test size to be 0.25.Dataset is also split to X(features) and y(target) variables."
      ],
      "metadata": {
        "id": "i7lO2C-2Humm"
      }
    },
    {
      "cell_type": "code",
      "source": [
        "\n",
        "from sklearn.model_selection import train_test_split\n",
        "X_train, X_test, y_train, y_test = train_test_split(df.drop('dataset', axis=1), df['dataset'], test_size=0.25, random_state=123)\n",
        "\n",
        "print('Train values shape:', X_train.shape)\n",
        "print('Test values shape:', X_test.shape)\n",
        "print('Train target shape:', y_train.shape)\n",
        "print('Test target shape:', y_test.shape)"
      ],
      "metadata": {
        "id": "v7G8sOPgaRcf",
        "colab": {
          "base_uri": "https://localhost:8080/"
        },
        "outputId": "39425d31-a9a8-40c3-9159-32cd5ec775dd"
      },
      "execution_count": 30,
      "outputs": [
        {
          "output_type": "stream",
          "name": "stdout",
          "text": [
            "Train values shape: (624, 6)\n",
            "Test values shape: (208, 6)\n",
            "Train target shape: (624,)\n",
            "Test target shape: (208,)\n"
          ]
        }
      ]
    },
    {
      "cell_type": "markdown",
      "source": [
        "**Model selection **\n",
        "\n",
        "We will use several popular models and see how they perform on our dataset.At the end we choose 3 best performing models and will merge them together."
      ],
      "metadata": {
        "id": "sxRZ7iTFJAgA"
      }
    },
    {
      "cell_type": "code",
      "source": [
        "from sklearn.linear_model import LogisticRegression\n",
        "from sklearn.neural_network import MLPClassifier\n",
        "from sklearn.neighbors import KNeighborsClassifier\n",
        "from sklearn.svm import SVC\n",
        "from sklearn.ensemble import RandomForestClassifier\n",
        "\n",
        "from sklearn.metrics import classification_report, confusion_matrix, roc_auc_score"
      ],
      "metadata": {
        "id": "4HAXbkxUaWeo"
      },
      "execution_count": 31,
      "outputs": []
    },
    {
      "cell_type": "code",
      "source": [
        "model = LogisticRegression()\n",
        "model.fit(X_train, y_train)\n",
        "y_train_hat = model.predict(X_train)\n",
        "y_test_hat = model.predict(X_test)\n",
        "\n",
        "print(model)\n",
        "print('Train performance')\n",
        "print('-------------------------------------------------------')\n",
        "print(classification_report(y_train, y_train_hat))\n",
        "\n",
        "print('Test performance')\n",
        "print('-------------------------------------------------------')\n",
        "print(classification_report(y_test, y_test_hat))\n",
        "\n",
        "print('Roc_auc score')\n",
        "print('-------------------------------------------------------')\n",
        "print(roc_auc_score(y_test, y_test_hat))\n",
        "print('')\n",
        "\n",
        "print('Confusion matrix')\n",
        "print('-------------------------------------------------------')\n",
        "print(confusion_matrix(y_test, y_test_hat))"
      ],
      "metadata": {
        "id": "ofPEtX4XaSA4",
        "colab": {
          "base_uri": "https://localhost:8080/"
        },
        "outputId": "0ac3277b-85fb-4dfa-bc3b-95748a22f3db"
      },
      "execution_count": 32,
      "outputs": [
        {
          "output_type": "stream",
          "name": "stdout",
          "text": [
            "LogisticRegression()\n",
            "Train performance\n",
            "-------------------------------------------------------\n",
            "              precision    recall  f1-score   support\n",
            "\n",
            "           1       0.78      0.65      0.71       313\n",
            "           2       0.70      0.82      0.75       311\n",
            "\n",
            "    accuracy                           0.73       624\n",
            "   macro avg       0.74      0.73      0.73       624\n",
            "weighted avg       0.74      0.73      0.73       624\n",
            "\n",
            "Test performance\n",
            "-------------------------------------------------------\n",
            "              precision    recall  f1-score   support\n",
            "\n",
            "           1       0.76      0.47      0.58       103\n",
            "           2       0.62      0.86      0.72       105\n",
            "\n",
            "    accuracy                           0.66       208\n",
            "   macro avg       0.69      0.66      0.65       208\n",
            "weighted avg       0.69      0.66      0.65       208\n",
            "\n",
            "Roc_auc score\n",
            "-------------------------------------------------------\n",
            "0.6615811373092927\n",
            "\n",
            "Confusion matrix\n",
            "-------------------------------------------------------\n",
            "[[48 55]\n",
            " [15 90]]\n"
          ]
        }
      ]
    },
    {
      "cell_type": "markdown",
      "source": [
        "Ok, Logistic Regression worked fine, nothing special, but still 0.62 f1 score on test dataset is pretty well, model also does not overfit. But we want better score,let's try now SVM that should work well on low dimension data"
      ],
      "metadata": {
        "id": "7i_Qsi_MKIdc"
      }
    },
    {
      "cell_type": "code",
      "source": [
        "# Support Vector Machines\n",
        "model = SVC()\n",
        "model.fit(X_train, y_train)\n",
        "y_train_hat = model.predict(X_train)\n",
        "y_test_hat = model.predict(X_test)\n",
        "\n",
        "print(model)\n",
        "print('Train performance')\n",
        "print('-------------------------------------------------------')\n",
        "print(classification_report(y_train, y_train_hat))\n",
        "\n",
        "print('Test performance')\n",
        "print('-------------------------------------------------------')\n",
        "print(classification_report(y_test, y_test_hat))\n",
        "\n",
        "print('Roc_auc score')\n",
        "print('-------------------------------------------------------')\n",
        "print(roc_auc_score(y_test, y_test_hat))\n",
        "print('')\n",
        "\n",
        "print('Confusion matrix')\n",
        "print('-------------------------------------------------------')\n",
        "print(confusion_matrix(y_test, y_test_hat))"
      ],
      "metadata": {
        "id": "moeSBXMFa8Ty",
        "colab": {
          "base_uri": "https://localhost:8080/"
        },
        "outputId": "1aadcddc-6891-4f36-e006-4915f0f0c758"
      },
      "execution_count": 33,
      "outputs": [
        {
          "output_type": "stream",
          "name": "stdout",
          "text": [
            "SVC()\n",
            "Train performance\n",
            "-------------------------------------------------------\n",
            "              precision    recall  f1-score   support\n",
            "\n",
            "           1       0.55      0.70      0.62       313\n",
            "           2       0.59      0.44      0.50       311\n",
            "\n",
            "    accuracy                           0.57       624\n",
            "   macro avg       0.57      0.57      0.56       624\n",
            "weighted avg       0.57      0.57      0.56       624\n",
            "\n",
            "Test performance\n",
            "-------------------------------------------------------\n",
            "              precision    recall  f1-score   support\n",
            "\n",
            "           1       0.55      0.73      0.63       103\n",
            "           2       0.61      0.42      0.50       105\n",
            "\n",
            "    accuracy                           0.57       208\n",
            "   macro avg       0.58      0.57      0.56       208\n",
            "weighted avg       0.58      0.57      0.56       208\n",
            "\n",
            "Roc_auc score\n",
            "-------------------------------------------------------\n",
            "0.5736014794267221\n",
            "\n",
            "Confusion matrix\n",
            "-------------------------------------------------------\n",
            "[[75 28]\n",
            " [61 44]]\n"
          ]
        }
      ]
    },
    {
      "cell_type": "markdown",
      "source": [
        "OK, f1 increased to 0.64, model is not overtrained,even roc_auc is higher so our model is able to do  classification better,SVM works fine.....but it's pretty much same as logistic regression,isn't it!? Let's try famous random forest classifier."
      ],
      "metadata": {
        "id": "C8PTz8WLLBRD"
      }
    },
    {
      "cell_type": "code",
      "source": [
        "# Random Forest\n",
        "model = RandomForestClassifier(n_jobs=-1,random_state=123)\n",
        "model.fit(X_train, y_train)\n",
        "y_train_hat = model.predict(X_train)\n",
        "y_test_hat = model.predict(X_test)\n",
        "\n",
        "print(model)\n",
        "print('Train performance')\n",
        "print('-------------------------------------------------------')\n",
        "print(classification_report(y_train, y_train_hat))\n",
        "\n",
        "print('Test performance')\n",
        "print('-------------------------------------------------------')\n",
        "print(classification_report(y_test, y_test_hat))\n",
        "\n",
        "print('Roc_auc score')\n",
        "print('-------------------------------------------------------')\n",
        "print(roc_auc_score(y_test, y_test_hat))\n",
        "print('')\n",
        "\n",
        "print('Confusion matrix')\n",
        "print('-------------------------------------------------------')\n",
        "print(confusion_matrix(y_test, y_test_hat))"
      ],
      "metadata": {
        "id": "T3Q8r1Lia80S",
        "colab": {
          "base_uri": "https://localhost:8080/"
        },
        "outputId": "b73e4b6e-9d17-4bc8-e62f-a3568d85bec8"
      },
      "execution_count": 34,
      "outputs": [
        {
          "output_type": "stream",
          "name": "stdout",
          "text": [
            "RandomForestClassifier(n_jobs=-1, random_state=123)\n",
            "Train performance\n",
            "-------------------------------------------------------\n",
            "              precision    recall  f1-score   support\n",
            "\n",
            "           1       1.00      1.00      1.00       313\n",
            "           2       1.00      1.00      1.00       311\n",
            "\n",
            "    accuracy                           1.00       624\n",
            "   macro avg       1.00      1.00      1.00       624\n",
            "weighted avg       1.00      1.00      1.00       624\n",
            "\n",
            "Test performance\n",
            "-------------------------------------------------------\n",
            "              precision    recall  f1-score   support\n",
            "\n",
            "           1       0.93      0.73      0.82       103\n",
            "           2       0.78      0.94      0.85       105\n",
            "\n",
            "    accuracy                           0.84       208\n",
            "   macro avg       0.85      0.84      0.83       208\n",
            "weighted avg       0.85      0.84      0.83       208\n",
            "\n",
            "Roc_auc score\n",
            "-------------------------------------------------------\n",
            "0.8355062413314841\n",
            "\n",
            "Confusion matrix\n",
            "-------------------------------------------------------\n",
            "[[75 28]\n",
            " [ 6 99]]\n"
          ]
        }
      ]
    },
    {
      "cell_type": "markdown",
      "source": [
        "Hell yeah! That's why it's so famous, got 0.84 f1 on test dataset,roc_auc reaching 0.85, all looks great just on fact model is overfitting training data....however,still generalize fine on test data."
      ],
      "metadata": {
        "id": "u7CE3OqMNM5d"
      }
    },
    {
      "cell_type": "code",
      "source": [
        "# Neutral nets\n",
        "model = MLPClassifier()\n",
        "model.fit(X_train, y_train)\n",
        "y_train_hat = model.predict(X_train)\n",
        "y_test_hat = model.predict(X_test)\n",
        "\n",
        "print(model)\n",
        "print('Train performance')\n",
        "print('-------------------------------------------------------')\n",
        "print(classification_report(y_train, y_train_hat))\n",
        "\n",
        "print('Test performance')\n",
        "print('-------------------------------------------------------')\n",
        "print(classification_report(y_test, y_test_hat))\n",
        "\n",
        "print('Roc_auc score')\n",
        "print('-------------------------------------------------------')\n",
        "print(roc_auc_score(y_test, y_test_hat))\n",
        "print('')\n",
        "\n",
        "print('Confusion matrix')\n",
        "print('-------------------------------------------------------')\n",
        "print(confusion_matrix(y_test, y_test_hat))"
      ],
      "metadata": {
        "id": "whwdNHT-bNrI",
        "colab": {
          "base_uri": "https://localhost:8080/"
        },
        "outputId": "38824c26-86b0-4670-c22f-71094535c4ca"
      },
      "execution_count": 35,
      "outputs": [
        {
          "output_type": "stream",
          "name": "stdout",
          "text": [
            "MLPClassifier()\n",
            "Train performance\n",
            "-------------------------------------------------------\n",
            "              precision    recall  f1-score   support\n",
            "\n",
            "           1       0.70      0.65      0.67       313\n",
            "           2       0.67      0.72      0.69       311\n",
            "\n",
            "    accuracy                           0.68       624\n",
            "   macro avg       0.69      0.68      0.68       624\n",
            "weighted avg       0.69      0.68      0.68       624\n",
            "\n",
            "Test performance\n",
            "-------------------------------------------------------\n",
            "              precision    recall  f1-score   support\n",
            "\n",
            "           1       0.60      0.50      0.55       103\n",
            "           2       0.58      0.68      0.63       105\n",
            "\n",
            "    accuracy                           0.59       208\n",
            "   macro avg       0.59      0.59      0.59       208\n",
            "weighted avg       0.59      0.59      0.59       208\n",
            "\n",
            "Roc_auc score\n",
            "-------------------------------------------------------\n",
            "0.5905224225612575\n",
            "\n",
            "Confusion matrix\n",
            "-------------------------------------------------------\n",
            "[[52 51]\n",
            " [34 71]]\n"
          ]
        }
      ]
    },
    {
      "cell_type": "code",
      "source": [
        "# K-Neighbors\n",
        "model = KNeighborsClassifier()\n",
        "model.fit(X_train, y_train)\n",
        "y_train_hat = model.predict(X_train)\n",
        "y_test_hat = model.predict(X_test)\n",
        "print(model)\n",
        "print('Train performance')\n",
        "print('-------------------------------------------------------')\n",
        "print(classification_report(y_train, y_train_hat))\n",
        "\n",
        "print('Test performance')\n",
        "print('-------------------------------------------------------')\n",
        "print(classification_report(y_test, y_test_hat))\n",
        "\n",
        "print('Roc_auc score')\n",
        "print('-------------------------------------------------------')\n",
        "print(roc_auc_score(y_test, y_test_hat))\n",
        "print('')\n",
        "\n",
        "print('Confusion matrix')\n",
        "print('-------------------------------------------------------')\n",
        "print(confusion_matrix(y_test, y_test_hat))"
      ],
      "metadata": {
        "id": "vzvZxusibOGX",
        "colab": {
          "base_uri": "https://localhost:8080/"
        },
        "outputId": "86f1fa21-fdf8-4165-bde5-c7232329769e"
      },
      "execution_count": 36,
      "outputs": [
        {
          "output_type": "stream",
          "name": "stdout",
          "text": [
            "KNeighborsClassifier()\n",
            "Train performance\n",
            "-------------------------------------------------------\n",
            "              precision    recall  f1-score   support\n",
            "\n",
            "           1       0.89      0.72      0.80       313\n",
            "           2       0.76      0.91      0.83       311\n",
            "\n",
            "    accuracy                           0.82       624\n",
            "   macro avg       0.83      0.82      0.81       624\n",
            "weighted avg       0.83      0.82      0.81       624\n",
            "\n",
            "Test performance\n",
            "-------------------------------------------------------\n",
            "              precision    recall  f1-score   support\n",
            "\n",
            "           1       0.75      0.62      0.68       103\n",
            "           2       0.68      0.80      0.74       105\n",
            "\n",
            "    accuracy                           0.71       208\n",
            "   macro avg       0.72      0.71      0.71       208\n",
            "weighted avg       0.72      0.71      0.71       208\n",
            "\n",
            "Roc_auc score\n",
            "-------------------------------------------------------\n",
            "0.7106796116504854\n",
            "\n",
            "Confusion matrix\n",
            "-------------------------------------------------------\n",
            "[[64 39]\n",
            " [21 84]]\n"
          ]
        }
      ]
    },
    {
      "cell_type": "markdown",
      "source": [
        "Also not so good \n",
        "\n",
        "\n",
        "....which one is most favourite machine learning model on Kaggle?XGBoost!....let's try it, unfortunately it's not part of sklearn so must be installed swparately(or is, but in slightly modified version)"
      ],
      "metadata": {
        "id": "sGq_rAAeN6de"
      }
    },
    {
      "cell_type": "code",
      "source": [
        "#from xgboost import XGBClassifier\n",
        "\n",
        "#model = XGBClassifier(random_state=123,eval_metric='logloss')\n",
        "#model.fit(X_train, y_train)\n",
        "#y_train_hat = model.predict(X_train)\n",
        "#y_test_hat = model.predict(X_test)\n",
        "\n",
        "#print(model)\n",
        "#print('Train performance')\n",
        "#print('-------------------------------------------------------')\n",
        "#print(classification_report(y_train, y_train_hat))\n",
        "\n",
        "#print('Test performance')\n",
        "#print('-------------------------------------------------------')\n",
        "#print(classification_report(y_test, y_test_hat))\n",
        "\n",
        "#print('Roc_auc score')\n",
        "#print('-------------------------------------------------------')\n",
        "#print(roc_auc_score(y_test, y_test_hat))\n",
        "#print('')\n",
        "\n",
        "#print('Confusion matrix')\n",
        "#print('-------------------------------------------------------')\n",
        "#print(confusion_matrix(y_test, y_test_hat))"
      ],
      "metadata": {
        "id": "2eWU0yY_bOso"
      },
      "execution_count": 120,
      "outputs": []
    },
    {
      "cell_type": "markdown",
      "source": [
        "Nice one,XGBoost is catching random forest in performance"
      ],
      "metadata": {
        "id": "IkromBvp_Fme"
      }
    },
    {
      "cell_type": "code",
      "source": [
        "# Extra Trees\n",
        "from sklearn.ensemble import ExtraTreesClassifier\n",
        "\n",
        "model = ExtraTreesClassifier(random_state=123)\n",
        "model.fit(X_train, y_train)\n",
        "y_train_hat = model.predict(X_train)\n",
        "y_test_hat = model.predict(X_test)\n",
        "\n",
        "print(model)\n",
        "print('Train performance')\n",
        "print('-------------------------------------------------------')\n",
        "print(classification_report(y_train, y_train_hat))\n",
        "\n",
        "print('Test performance')\n",
        "print('-------------------------------------------------------')\n",
        "print(classification_report(y_test, y_test_hat))\n",
        "\n",
        "print('Roc_auc score')\n",
        "print('-------------------------------------------------------')\n",
        "print(roc_auc_score(y_test, y_test_hat))\n",
        "print('')\n",
        "\n",
        "print('Confusion matrix')\n",
        "print('-------------------------------------------------------')\n",
        "print(confusion_matrix(y_test, y_test_hat))"
      ],
      "metadata": {
        "id": "D6HBb6JKbpmm",
        "colab": {
          "base_uri": "https://localhost:8080/"
        },
        "outputId": "8a45399a-3d55-40c4-e32e-f55fef975ee6"
      },
      "execution_count": 42,
      "outputs": [
        {
          "output_type": "stream",
          "name": "stdout",
          "text": [
            "ExtraTreesClassifier(random_state=123)\n",
            "Train performance\n",
            "-------------------------------------------------------\n",
            "              precision    recall  f1-score   support\n",
            "\n",
            "           1       1.00      1.00      1.00       313\n",
            "           2       1.00      1.00      1.00       311\n",
            "\n",
            "    accuracy                           1.00       624\n",
            "   macro avg       1.00      1.00      1.00       624\n",
            "weighted avg       1.00      1.00      1.00       624\n",
            "\n",
            "Test performance\n",
            "-------------------------------------------------------\n",
            "              precision    recall  f1-score   support\n",
            "\n",
            "           1       0.92      0.81      0.86       103\n",
            "           2       0.83      0.93      0.88       105\n",
            "\n",
            "    accuracy                           0.87       208\n",
            "   macro avg       0.88      0.87      0.87       208\n",
            "weighted avg       0.88      0.87      0.87       208\n",
            "\n",
            "Roc_auc score\n",
            "-------------------------------------------------------\n",
            "0.86957928802589\n",
            "\n",
            "Confusion matrix\n",
            "-------------------------------------------------------\n",
            "[[83 20]\n",
            " [ 7 98]]\n"
          ]
        }
      ]
    },
    {
      "cell_type": "markdown",
      "source": [
        "Incredible! Extra Trees has definitely best performance from all models we've tried:\n",
        "\n",
        "\n",
        "*   86% precission\n",
        "*   86% recall\n",
        "\n",
        "\n",
        "*   0.86 f1\n",
        "*   0.85 roc_auc\n",
        "\n",
        "\n",
        "\n",
        "\n",
        "\n"
      ],
      "metadata": {
        "id": "_1bSUdMyUSKQ"
      }
    },
    {
      "cell_type": "markdown",
      "source": [
        "Model evaluation & optimization\n",
        "\n",
        "As our dataset is not too big,we will use GridSearchCV for parameter tuning,in case of large datasets RandomizedSearchCV could be better.Our main objective will be to improve roc_auc score and avoid overfitting"
      ],
      "metadata": {
        "id": "GrEY-aBpOvyw"
      }
    },
    {
      "cell_type": "code",
      "source": [
        "from sklearn.model_selection import GridSearchCV, KFold"
      ],
      "metadata": {
        "id": "EUr80MUjbqBI"
      },
      "execution_count": 43,
      "outputs": []
    },
    {
      "cell_type": "code",
      "source": [
        "# # Random forest\n",
        "# # n_jobs=-1 to allow run it on all cores\n",
        "# params = {\n",
        "#    'n_estimators': [100, 200, 500],\n",
        "#    'criterion': ['gini', 'entropy'],\n",
        "#    'min_samples_split': [1,2,4,5],\n",
        "#    'min_samples_leaf': [1,2,4,5],\n",
        "#    'max_leaf_nodes': [4,10,20,50,None]\n",
        "# }\n",
        "\n",
        "# gs1 = GridSearchCV(RandomForestClassifier(), params, cv=KFold(n_splits=3), scoring='roc_auc')\n",
        "# gs1.fit(X_train, y_train)\n",
        "\n",
        "# print('Best score:', gs1.best_score_)\n",
        "# print('Best score:', gs1.best_params_)"
      ],
      "metadata": {
        "id": "3RAbD0clb3J_"
      },
      "execution_count": 47,
      "outputs": []
    },
    {
      "cell_type": "code",
      "source": [
        "# # XGBoost\n",
        "# # n_jobs=-1 to allow run it on all cores\n",
        "# params = {\n",
        "#     'n_estimators': [100, 200, 500],\n",
        "#     'learning_rate': [0.01,0.05,0.1],\n",
        "#     'booster': ['gbtree', 'gblinear'],\n",
        "#    'gamma': [0, 0.5, 1],\n",
        "#    'reg_alpha': [0, 0.5, 1],\n",
        "#    'reg_lambda': [0.5, 1, 5],\n",
        "#    'base_score': [0.2, 0.5, 1]\n",
        "# }\n",
        "\n",
        "# gs2 = GridSearchCV(XGBClassifier(), params, cv=KFold(n_splits=3), scoring='roc_auc')\n",
        "# gs2.fit(X_train, y_train)\n",
        "\n",
        "# print('Best score:', gs2.best_score_)\n",
        "# print('Best score:', gs2.best_params_)"
      ],
      "metadata": {
        "id": "yFgdLtLLb3nE"
      },
      "execution_count": 48,
      "outputs": []
    },
    {
      "cell_type": "code",
      "source": [
        "# # Extra Tree\n",
        "# # n_jobs=-1 to allow run it on all cores\n",
        "# params = {\n",
        "#     'n_estimators': [100, 200, 500],\n",
        "#     'criterion': ['gini', 'entropy'],\n",
        "#     'min_samples_split': [1,2,4,5],\n",
        "#    'min_samples_leaf': [1,2,4,5],\n",
        "#     'max_leaf_nodes': [4,10,20,50,None]\n",
        "# }\n",
        "\n",
        "# gs3 = GridSearchCV(ExtraTreesClassifier(), params, cv=KFold(n_splits=3), scoring='roc_auc')\n",
        "# gs3.fit(X_train, y_train)\n",
        "\n",
        "# print('Best score:', gs3.best_score_)\n",
        "# print('Best score:', gs3.best_params_)"
      ],
      "metadata": {
        "id": "9_dACa2be2GQ"
      },
      "execution_count": 49,
      "outputs": []
    },
    {
      "cell_type": "markdown",
      "source": [
        "Voting - we will use these 3 models in final, merge them\n",
        "\n",
        "Objective here is not to make more accurate model (but it can be),however we want to more stable model."
      ],
      "metadata": {
        "id": "QDofdwNOiMwW"
      }
    },
    {
      "cell_type": "code",
      "source": [
        "# from sklearn.model_selection import cross_validate\n",
        "# from sklearn.ensemble import VotingClassifier\n",
        "\n",
        "# votes = [\n",
        "#    ('rf', RandomForestClassifier(n_jobs=-1, criterion='gini', max_leaf_nodes=None, min_samples_leaf=1, min_samples_split=2, n_estimators=100)),\n",
        "#    ('xgb', XGB Classifier(n_jobs=-1, base_score=0.2, booster='gbtree', gamma=0, learning_rate=0.1, n_estimators=500, reg_alpha=0, reg_lambda=1)),\n",
        "#    ('xt', ExtraTreesClassifier(n_jobs=-1, criterion='gini', max_leaf_nodes=None, min_samples_leaf=1, min_samples_split=2, n_estimators=500))\n",
        "# ]\n",
        "\n",
        "# votes = [\n",
        "#     ('rf', gs1.best_estimator_),\n",
        "#     ('xgb', gs2.best_estimator_),\n",
        "#     ('xt', gs3.best_estimator_)\n",
        "# ]\n",
        "\n",
        "# soft voting based on weights\n",
        "# votesClass = VotingClassifier(estimators=votes, voting='soft', n_jobs=-1)\n",
        "# votesClass_cv = cross_validate(votesClass, X_train, y_train, cv=KFold(3))\n",
        "# votesClass.fit(X_train, y_train)\n",
        " \n",
        "# votesClass_cv\n",
        "\n",
        "# votesClass_cv"
      ],
      "metadata": {
        "id": "j9js77OPe7-f"
      },
      "execution_count": 69,
      "outputs": []
    },
    {
      "cell_type": "code",
      "source": [
        "# from sklearn.ensemble import ExtraTreesClassifier\n",
        "\n",
        "# model = votesClass\n",
        "# model.fit(X_train, y_train)\n",
        "# y_train_hat = model.predict(X_train)\n",
        "# y_test_hat = model.predict(X_test)\n",
        "\n",
        "# print(model)\n",
        "# print('Train performance')\n",
        "# print('-------------------------------------------------------')\n",
        "# print(classification_report(y_train, y_train_hat))\n",
        "\n",
        "# print('Test performance')\n",
        "# print('-------------------------------------------------------')\n",
        "# print(classification_report(y_test, y_test_hat))\n",
        "\n",
        "# print('Roc_auc score')\n",
        "# print('-------------------------------------------------------')\n",
        "# print(roc_auc_score(y_test, y_test_hat))\n",
        "# print('')\n",
        "\n",
        "# print('Confusion matrix')\n",
        "# print('-------------------------------------------------------')\n",
        "# print(confusion_matrix(y_test, y_test_hat))"
      ],
      "metadata": {
        "id": "O0gh2KXkfDbL"
      },
      "execution_count": 70,
      "outputs": []
    },
    {
      "cell_type": "code",
      "source": [
        "# model.predict([[-0.2       , -1.        , -0.07400058,  0.64736905,  1.98471644, -0.37166352]])"
      ],
      "metadata": {
        "id": "w0bQ76GUfK9P"
      },
      "execution_count": 73,
      "outputs": []
    },
    {
      "cell_type": "code",
      "source": [
        "X_test"
      ],
      "metadata": {
        "colab": {
          "base_uri": "https://localhost:8080/",
          "height": 488
        },
        "id": "mKutwqWsGrzE",
        "outputId": "654340b5-8866-4f2e-b4cd-e60837646446"
      },
      "execution_count": 74,
      "outputs": [
        {
          "output_type": "execute_result",
          "data": {
            "text/plain": [
              "     age  gender  total_bilirubin  alkaline_phosphotase  \\\n",
              "18    40       0         0.495826              1.899654   \n",
              "46    21       1         0.951363              1.794635   \n",
              "176   55       1         0.462341              1.971302   \n",
              "534   39       1         0.670652              1.862904   \n",
              "312   27       1         0.605904              1.735688   \n",
              "..   ...     ...              ...                   ...   \n",
              "397   78       1         0.526589              1.796820   \n",
              "63    57       1         0.425678              1.847247   \n",
              "431   47       0         0.462341              1.866876   \n",
              "412   65       1         1.020634              1.832945   \n",
              "461   28       0         0.462341              1.907551   \n",
              "\n",
              "     alamine_aminotransferase  albumin_and_globulin_ratio  \n",
              "18                   1.864241                    0.462341  \n",
              "46                   1.528427                    0.615267  \n",
              "176                  1.745260                    0.462341  \n",
              "534                  1.702680                    0.526589  \n",
              "312                  1.448822                    0.510619  \n",
              "..                        ...                         ...  \n",
              "397                  1.474144                    0.495826  \n",
              "63                   1.522467                    0.425678  \n",
              "431                  1.223156                    0.448086  \n",
              "412                  1.509918                    0.425678  \n",
              "461                  1.614495                    0.652472  \n",
              "\n",
              "[208 rows x 6 columns]"
            ],
            "text/html": [
              "\n",
              "  <div id=\"df-702a725c-0508-4898-a0f8-de78ac6f2065\">\n",
              "    <div class=\"colab-df-container\">\n",
              "      <div>\n",
              "<style scoped>\n",
              "    .dataframe tbody tr th:only-of-type {\n",
              "        vertical-align: middle;\n",
              "    }\n",
              "\n",
              "    .dataframe tbody tr th {\n",
              "        vertical-align: top;\n",
              "    }\n",
              "\n",
              "    .dataframe thead th {\n",
              "        text-align: right;\n",
              "    }\n",
              "</style>\n",
              "<table border=\"1\" class=\"dataframe\">\n",
              "  <thead>\n",
              "    <tr style=\"text-align: right;\">\n",
              "      <th></th>\n",
              "      <th>age</th>\n",
              "      <th>gender</th>\n",
              "      <th>total_bilirubin</th>\n",
              "      <th>alkaline_phosphotase</th>\n",
              "      <th>alamine_aminotransferase</th>\n",
              "      <th>albumin_and_globulin_ratio</th>\n",
              "    </tr>\n",
              "  </thead>\n",
              "  <tbody>\n",
              "    <tr>\n",
              "      <th>18</th>\n",
              "      <td>40</td>\n",
              "      <td>0</td>\n",
              "      <td>0.495826</td>\n",
              "      <td>1.899654</td>\n",
              "      <td>1.864241</td>\n",
              "      <td>0.462341</td>\n",
              "    </tr>\n",
              "    <tr>\n",
              "      <th>46</th>\n",
              "      <td>21</td>\n",
              "      <td>1</td>\n",
              "      <td>0.951363</td>\n",
              "      <td>1.794635</td>\n",
              "      <td>1.528427</td>\n",
              "      <td>0.615267</td>\n",
              "    </tr>\n",
              "    <tr>\n",
              "      <th>176</th>\n",
              "      <td>55</td>\n",
              "      <td>1</td>\n",
              "      <td>0.462341</td>\n",
              "      <td>1.971302</td>\n",
              "      <td>1.745260</td>\n",
              "      <td>0.462341</td>\n",
              "    </tr>\n",
              "    <tr>\n",
              "      <th>534</th>\n",
              "      <td>39</td>\n",
              "      <td>1</td>\n",
              "      <td>0.670652</td>\n",
              "      <td>1.862904</td>\n",
              "      <td>1.702680</td>\n",
              "      <td>0.526589</td>\n",
              "    </tr>\n",
              "    <tr>\n",
              "      <th>312</th>\n",
              "      <td>27</td>\n",
              "      <td>1</td>\n",
              "      <td>0.605904</td>\n",
              "      <td>1.735688</td>\n",
              "      <td>1.448822</td>\n",
              "      <td>0.510619</td>\n",
              "    </tr>\n",
              "    <tr>\n",
              "      <th>...</th>\n",
              "      <td>...</td>\n",
              "      <td>...</td>\n",
              "      <td>...</td>\n",
              "      <td>...</td>\n",
              "      <td>...</td>\n",
              "      <td>...</td>\n",
              "    </tr>\n",
              "    <tr>\n",
              "      <th>397</th>\n",
              "      <td>78</td>\n",
              "      <td>1</td>\n",
              "      <td>0.526589</td>\n",
              "      <td>1.796820</td>\n",
              "      <td>1.474144</td>\n",
              "      <td>0.495826</td>\n",
              "    </tr>\n",
              "    <tr>\n",
              "      <th>63</th>\n",
              "      <td>57</td>\n",
              "      <td>1</td>\n",
              "      <td>0.425678</td>\n",
              "      <td>1.847247</td>\n",
              "      <td>1.522467</td>\n",
              "      <td>0.425678</td>\n",
              "    </tr>\n",
              "    <tr>\n",
              "      <th>431</th>\n",
              "      <td>47</td>\n",
              "      <td>0</td>\n",
              "      <td>0.462341</td>\n",
              "      <td>1.866876</td>\n",
              "      <td>1.223156</td>\n",
              "      <td>0.448086</td>\n",
              "    </tr>\n",
              "    <tr>\n",
              "      <th>412</th>\n",
              "      <td>65</td>\n",
              "      <td>1</td>\n",
              "      <td>1.020634</td>\n",
              "      <td>1.832945</td>\n",
              "      <td>1.509918</td>\n",
              "      <td>0.425678</td>\n",
              "    </tr>\n",
              "    <tr>\n",
              "      <th>461</th>\n",
              "      <td>28</td>\n",
              "      <td>0</td>\n",
              "      <td>0.462341</td>\n",
              "      <td>1.907551</td>\n",
              "      <td>1.614495</td>\n",
              "      <td>0.652472</td>\n",
              "    </tr>\n",
              "  </tbody>\n",
              "</table>\n",
              "<p>208 rows × 6 columns</p>\n",
              "</div>\n",
              "      <button class=\"colab-df-convert\" onclick=\"convertToInteractive('df-702a725c-0508-4898-a0f8-de78ac6f2065')\"\n",
              "              title=\"Convert this dataframe to an interactive table.\"\n",
              "              style=\"display:none;\">\n",
              "        \n",
              "  <svg xmlns=\"http://www.w3.org/2000/svg\" height=\"24px\"viewBox=\"0 0 24 24\"\n",
              "       width=\"24px\">\n",
              "    <path d=\"M0 0h24v24H0V0z\" fill=\"none\"/>\n",
              "    <path d=\"M18.56 5.44l.94 2.06.94-2.06 2.06-.94-2.06-.94-.94-2.06-.94 2.06-2.06.94zm-11 1L8.5 8.5l.94-2.06 2.06-.94-2.06-.94L8.5 2.5l-.94 2.06-2.06.94zm10 10l.94 2.06.94-2.06 2.06-.94-2.06-.94-.94-2.06-.94 2.06-2.06.94z\"/><path d=\"M17.41 7.96l-1.37-1.37c-.4-.4-.92-.59-1.43-.59-.52 0-1.04.2-1.43.59L10.3 9.45l-7.72 7.72c-.78.78-.78 2.05 0 2.83L4 21.41c.39.39.9.59 1.41.59.51 0 1.02-.2 1.41-.59l7.78-7.78 2.81-2.81c.8-.78.8-2.07 0-2.86zM5.41 20L4 18.59l7.72-7.72 1.47 1.35L5.41 20z\"/>\n",
              "  </svg>\n",
              "      </button>\n",
              "      \n",
              "  <style>\n",
              "    .colab-df-container {\n",
              "      display:flex;\n",
              "      flex-wrap:wrap;\n",
              "      gap: 12px;\n",
              "    }\n",
              "\n",
              "    .colab-df-convert {\n",
              "      background-color: #E8F0FE;\n",
              "      border: none;\n",
              "      border-radius: 50%;\n",
              "      cursor: pointer;\n",
              "      display: none;\n",
              "      fill: #1967D2;\n",
              "      height: 32px;\n",
              "      padding: 0 0 0 0;\n",
              "      width: 32px;\n",
              "    }\n",
              "\n",
              "    .colab-df-convert:hover {\n",
              "      background-color: #E2EBFA;\n",
              "      box-shadow: 0px 1px 2px rgba(60, 64, 67, 0.3), 0px 1px 3px 1px rgba(60, 64, 67, 0.15);\n",
              "      fill: #174EA6;\n",
              "    }\n",
              "\n",
              "    [theme=dark] .colab-df-convert {\n",
              "      background-color: #3B4455;\n",
              "      fill: #D2E3FC;\n",
              "    }\n",
              "\n",
              "    [theme=dark] .colab-df-convert:hover {\n",
              "      background-color: #434B5C;\n",
              "      box-shadow: 0px 1px 3px 1px rgba(0, 0, 0, 0.15);\n",
              "      filter: drop-shadow(0px 1px 2px rgba(0, 0, 0, 0.3));\n",
              "      fill: #FFFFFF;\n",
              "    }\n",
              "  </style>\n",
              "\n",
              "      <script>\n",
              "        const buttonEl =\n",
              "          document.querySelector('#df-702a725c-0508-4898-a0f8-de78ac6f2065 button.colab-df-convert');\n",
              "        buttonEl.style.display =\n",
              "          google.colab.kernel.accessAllowed ? 'block' : 'none';\n",
              "\n",
              "        async function convertToInteractive(key) {\n",
              "          const element = document.querySelector('#df-702a725c-0508-4898-a0f8-de78ac6f2065');\n",
              "          const dataTable =\n",
              "            await google.colab.kernel.invokeFunction('convertToInteractive',\n",
              "                                                     [key], {});\n",
              "          if (!dataTable) return;\n",
              "\n",
              "          const docLinkHtml = 'Like what you see? Visit the ' +\n",
              "            '<a target=\"_blank\" href=https://colab.research.google.com/notebooks/data_table.ipynb>data table notebook</a>'\n",
              "            + ' to learn more about interactive tables.';\n",
              "          element.innerHTML = '';\n",
              "          dataTable['output_type'] = 'display_data';\n",
              "          await google.colab.output.renderOutput(dataTable, element);\n",
              "          const docLink = document.createElement('div');\n",
              "          docLink.innerHTML = docLinkHtml;\n",
              "          element.appendChild(docLink);\n",
              "        }\n",
              "      </script>\n",
              "    </div>\n",
              "  </div>\n",
              "  "
            ]
          },
          "metadata": {},
          "execution_count": 74
        }
      ]
    },
    {
      "cell_type": "code",
      "source": [
        "# from sklearn.model_selection import cross_validate\n",
        "# from sklearn.ensemble import VotingClassifier\n",
        "\n",
        "# votes = [\n",
        "#    ('rf', RandomForestClassifier(n_jobs=-1, criterion='gini', max_leaf_nodes=None, min_samples_leaf=1, min_samples_split=2, n_estimators=100)),\n",
        "#   ('xgb', XGBClassifier(n_jobs=-1, base_score=0.2, booster='gbtree', gamma=0, learning_rate=0.1, n_estimators=500, reg_alpha=0, reg_lambda=1)),\n",
        "#   ('xt', ExtraTreesClassifier(n_jobs=-1, criterion='gini', max_leaf_nodes=None, min_samples_leaf=1, min_samples_split=2, n_estimators=500))\n",
        "# ]\n",
        "\n",
        "# votes = [\n",
        "#     ('rf', gs1.best_estimator_),\n",
        "#     ('xgb', gs2.best_estimator_),\n",
        "#     ('xt', gs3.best_estimator_)\n",
        "# ]\n",
        "\n",
        "# soft voting based on weights\n",
        "# votesClass = VotingClassifier(estimators=votes, voting='soft', n_jobs=-1)\n",
        "# votesClass_cv = cross_validate(votesClass, X, y, cv=KFold(3))\n",
        "# votesClass.fit(X, y)\n",
        "\n",
        "# votesClass_cv"
      ],
      "metadata": {
        "id": "B2O_I8npGuPr"
      },
      "execution_count": 77,
      "outputs": []
    },
    {
      "cell_type": "markdown",
      "source": [
        "Great,we've got f1 score 0.84, it's not better that we've had, but even not worse.Our model is still overfitting data, it could be much better having more data but model still generalize well on test set. If you have any suggestions how to reduce overfitting, place your comment here ;"
      ],
      "metadata": {
        "id": "ZN1aypR6HLiA"
      }
    },
    {
      "cell_type": "markdown",
      "source": [
        "**IBM** **DEPLOYMENT**"
      ],
      "metadata": {
        "id": "SzjYnCJeIazZ"
      }
    },
    {
      "cell_type": "code",
      "source": [
        "!pip install -U ibm-watson-machine-learning"
      ],
      "metadata": {
        "id": "JSHVJmCafPW0",
        "colab": {
          "base_uri": "https://localhost:8080/"
        },
        "outputId": "71f4f98b-7557-4abd-cd7f-07e5cf03b621"
      },
      "execution_count": 78,
      "outputs": [
        {
          "output_type": "stream",
          "name": "stdout",
          "text": [
            "\u001b[33mWARNING: Ignoring invalid distribution -gboost (/usr/local/lib/python3.7/dist-packages)\u001b[0m\n",
            "\u001b[33mWARNING: Ignoring invalid distribution -gboost (/usr/local/lib/python3.7/dist-packages)\u001b[0m\n",
            "Looking in indexes: https://pypi.org/simple, https://us-python.pkg.dev/colab-wheels/public/simple/\n",
            "Collecting ibm-watson-machine-learning\n",
            "  Downloading ibm_watson_machine_learning-1.0.257-py3-none-any.whl (1.8 MB)\n",
            "\u001b[K     |████████████████████████████████| 1.8 MB 5.1 MB/s \n",
            "\u001b[?25hCollecting lomond\n",
            "  Downloading lomond-0.3.3-py2.py3-none-any.whl (35 kB)\n",
            "Requirement already satisfied: certifi in /usr/local/lib/python3.7/dist-packages (from ibm-watson-machine-learning) (2022.9.24)\n",
            "Collecting ibm-cos-sdk==2.7.*\n",
            "  Downloading ibm-cos-sdk-2.7.0.tar.gz (51 kB)\n",
            "\u001b[K     |████████████████████████████████| 51 kB 647 kB/s \n",
            "\u001b[?25hRequirement already satisfied: importlib-metadata in /usr/local/lib/python3.7/dist-packages (from ibm-watson-machine-learning) (4.13.0)\n",
            "Requirement already satisfied: packaging in /usr/local/lib/python3.7/dist-packages (from ibm-watson-machine-learning) (21.3)\n",
            "Requirement already satisfied: urllib3 in /usr/local/lib/python3.7/dist-packages (from ibm-watson-machine-learning) (1.24.3)\n",
            "Requirement already satisfied: tabulate in /usr/local/lib/python3.7/dist-packages (from ibm-watson-machine-learning) (0.8.10)\n",
            "Requirement already satisfied: requests in /usr/local/lib/python3.7/dist-packages (from ibm-watson-machine-learning) (2.23.0)\n",
            "Requirement already satisfied: pandas<1.5.0,>=0.24.2 in /usr/local/lib/python3.7/dist-packages (from ibm-watson-machine-learning) (1.3.5)\n",
            "Collecting ibm-cos-sdk-core==2.7.0\n",
            "  Downloading ibm-cos-sdk-core-2.7.0.tar.gz (824 kB)\n",
            "\u001b[K     |████████████████████████████████| 824 kB 63.9 MB/s \n",
            "\u001b[?25hCollecting ibm-cos-sdk-s3transfer==2.7.0\n",
            "  Downloading ibm-cos-sdk-s3transfer-2.7.0.tar.gz (133 kB)\n",
            "\u001b[K     |████████████████████████████████| 133 kB 37.3 MB/s \n",
            "\u001b[?25hCollecting jmespath<1.0.0,>=0.7.1\n",
            "  Downloading jmespath-0.10.0-py2.py3-none-any.whl (24 kB)\n",
            "Collecting docutils<0.16,>=0.10\n",
            "  Downloading docutils-0.15.2-py3-none-any.whl (547 kB)\n",
            "\u001b[K     |████████████████████████████████| 547 kB 62.0 MB/s \n",
            "\u001b[?25hRequirement already satisfied: python-dateutil<3.0.0,>=2.1 in /usr/local/lib/python3.7/dist-packages (from ibm-cos-sdk-core==2.7.0->ibm-cos-sdk==2.7.*->ibm-watson-machine-learning) (2.8.2)\n",
            "Requirement already satisfied: pytz>=2017.3 in /usr/local/lib/python3.7/dist-packages (from pandas<1.5.0,>=0.24.2->ibm-watson-machine-learning) (2022.6)\n",
            "Requirement already satisfied: numpy>=1.17.3 in /usr/local/lib/python3.7/dist-packages (from pandas<1.5.0,>=0.24.2->ibm-watson-machine-learning) (1.21.6)\n",
            "Requirement already satisfied: six>=1.5 in /usr/local/lib/python3.7/dist-packages (from python-dateutil<3.0.0,>=2.1->ibm-cos-sdk-core==2.7.0->ibm-cos-sdk==2.7.*->ibm-watson-machine-learning) (1.15.0)\n",
            "Requirement already satisfied: chardet<4,>=3.0.2 in /usr/local/lib/python3.7/dist-packages (from requests->ibm-watson-machine-learning) (3.0.4)\n",
            "Requirement already satisfied: idna<3,>=2.5 in /usr/local/lib/python3.7/dist-packages (from requests->ibm-watson-machine-learning) (2.10)\n",
            "Requirement already satisfied: zipp>=0.5 in /usr/local/lib/python3.7/dist-packages (from importlib-metadata->ibm-watson-machine-learning) (3.10.0)\n",
            "Requirement already satisfied: typing-extensions>=3.6.4 in /usr/local/lib/python3.7/dist-packages (from importlib-metadata->ibm-watson-machine-learning) (4.1.1)\n",
            "Requirement already satisfied: pyparsing!=3.0.5,>=2.0.2 in /usr/local/lib/python3.7/dist-packages (from packaging->ibm-watson-machine-learning) (3.0.9)\n",
            "Building wheels for collected packages: ibm-cos-sdk, ibm-cos-sdk-core, ibm-cos-sdk-s3transfer\n",
            "  Building wheel for ibm-cos-sdk (setup.py) ... \u001b[?25l\u001b[?25hdone\n",
            "  Created wheel for ibm-cos-sdk: filename=ibm_cos_sdk-2.7.0-py2.py3-none-any.whl size=72563 sha256=0fd26b8a879cb6f76c1492c3f3313b66dce2479295578d1a11ac093b7dc5e989\n",
            "  Stored in directory: /root/.cache/pip/wheels/47/22/bf/e1154ff0f5de93cc477acd0ca69abfbb8b799c5b28a66b44c2\n",
            "  Building wheel for ibm-cos-sdk-core (setup.py) ... \u001b[?25l\u001b[?25hdone\n",
            "  Created wheel for ibm-cos-sdk-core: filename=ibm_cos_sdk_core-2.7.0-py2.py3-none-any.whl size=501013 sha256=b6b0f23f450b10ac10e271badfa3903ee859fa4b7dd4ace81ffd905dd41a52ff\n",
            "  Stored in directory: /root/.cache/pip/wheels/6c/a2/e4/c16d02f809a3ea998e17cfd02c13369281f3d232aaf5902c19\n",
            "  Building wheel for ibm-cos-sdk-s3transfer (setup.py) ... \u001b[?25l\u001b[?25hdone\n",
            "  Created wheel for ibm-cos-sdk-s3transfer: filename=ibm_cos_sdk_s3transfer-2.7.0-py2.py3-none-any.whl size=88622 sha256=56f6c2748789ee72becf5f433e67ed55a33eb2d0b2366cc4151c0d23769e66a3\n",
            "  Stored in directory: /root/.cache/pip/wheels/5f/b7/14/fbe02bc1ef1af890650c7e51743d1c83890852e598d164b9da\n",
            "Successfully built ibm-cos-sdk ibm-cos-sdk-core ibm-cos-sdk-s3transfer\n",
            "\u001b[33mWARNING: Ignoring invalid distribution -gboost (/usr/local/lib/python3.7/dist-packages)\u001b[0m\n",
            "Installing collected packages: jmespath, docutils, ibm-cos-sdk-core, ibm-cos-sdk-s3transfer, lomond, ibm-cos-sdk, ibm-watson-machine-learning\n",
            "  Attempting uninstall: docutils\n",
            "\u001b[33m    WARNING: Ignoring invalid distribution -gboost (/usr/local/lib/python3.7/dist-packages)\u001b[0m\n",
            "    Found existing installation: docutils 0.17.1\n",
            "    Uninstalling docutils-0.17.1:\n",
            "      Successfully uninstalled docutils-0.17.1\n",
            "\u001b[33mWARNING: Ignoring invalid distribution -gboost (/usr/local/lib/python3.7/dist-packages)\u001b[0m\n",
            "\u001b[33mWARNING: Ignoring invalid distribution -gboost (/usr/local/lib/python3.7/dist-packages)\u001b[0m\n",
            "\u001b[33mWARNING: Ignoring invalid distribution -gboost (/usr/local/lib/python3.7/dist-packages)\u001b[0m\n",
            "\u001b[33mWARNING: Ignoring invalid distribution -gboost (/usr/local/lib/python3.7/dist-packages)\u001b[0m\n",
            "\u001b[33mWARNING: Ignoring invalid distribution -gboost (/usr/local/lib/python3.7/dist-packages)\u001b[0m\n",
            "\u001b[33mWARNING: Ignoring invalid distribution -gboost (/usr/local/lib/python3.7/dist-packages)\u001b[0m\n",
            "\u001b[33mWARNING: Ignoring invalid distribution -gboost (/usr/local/lib/python3.7/dist-packages)\u001b[0m\n",
            "Successfully installed docutils-0.15.2 ibm-cos-sdk-2.7.0 ibm-cos-sdk-core-2.7.0 ibm-cos-sdk-s3transfer-2.7.0 ibm-watson-machine-learning-1.0.257 jmespath-0.10.0 lomond-0.3.3\n"
          ]
        }
      ]
    },
    {
      "cell_type": "code",
      "source": [
        "# from ibm_watson_machine_learning import APIClient\n",
        "# import json"
      ],
      "metadata": {
        "id": "4JtZXwqLfbq1"
      },
      "execution_count": 80,
      "outputs": []
    },
    {
      "cell_type": "markdown",
      "source": [
        "AUTHENTICATE AND SET SPACE"
      ],
      "metadata": {
        "id": "BH5f_FLOh5R8"
      }
    },
    {
      "cell_type": "code",
      "source": [
        "wml_credentials ={\n",
        "    \"apikey\":\"j0BgO8c07rllOiKYd-fzN6fUKss9_b9Sd633gGNKCTgx\",\n",
        "    \"url\":\"https://us-south.ml.cloud.ibm.com\"\n",
        "}"
      ],
      "metadata": {
        "id": "AQ3GVaxaff3f"
      },
      "execution_count": 81,
      "outputs": []
    },
    {
      "cell_type": "code",
      "source": [
        "# wml_client = APIClient(wml_credentials)"
      ],
      "metadata": {
        "id": "RkVrGQtWfkXb"
      },
      "execution_count": 83,
      "outputs": []
    },
    {
      "cell_type": "code",
      "source": [
        "# wml_client.spaces.list()"
      ],
      "metadata": {
        "id": "tVtp50tQfmzS"
      },
      "execution_count": 90,
      "outputs": []
    },
    {
      "cell_type": "code",
      "source": [
        "SPACE_ID=\"16f09ae2-fea1-43c5-beb7-b9cde7c7398b\""
      ],
      "metadata": {
        "id": "yczG6HRUfuZ-"
      },
      "execution_count": 86,
      "outputs": []
    },
    {
      "cell_type": "code",
      "source": [
        "# wml_client.set.default_space(SPACE_ID)"
      ],
      "metadata": {
        "id": "Z2pQlEmGfvue"
      },
      "execution_count": 92,
      "outputs": []
    },
    {
      "cell_type": "markdown",
      "source": [
        "'SUCCESS'"
      ],
      "metadata": {
        "id": "DEDmrySlJTR0"
      }
    },
    {
      "cell_type": "code",
      "source": [
        "# wml_client.software_specifications.list(500)"
      ],
      "metadata": {
        "id": "sNDDxBvofzMi"
      },
      "execution_count": 96,
      "outputs": []
    },
    {
      "cell_type": "markdown",
      "source": [
        "SAVE AND DEPLOY MODEL"
      ],
      "metadata": {
        "id": "PUswFC5zhvHt"
      }
    },
    {
      "cell_type": "code",
      "source": [
        "import sklearn\n",
        "sklearn.__version__"
      ],
      "metadata": {
        "id": "Y3mYZDV4f26s",
        "colab": {
          "base_uri": "https://localhost:8080/",
          "height": 35
        },
        "outputId": "d059c449-2b7d-4404-a21c-c1b1285cdf15"
      },
      "execution_count": 97,
      "outputs": [
        {
          "output_type": "execute_result",
          "data": {
            "text/plain": [
              "'1.0.2'"
            ],
            "application/vnd.google.colaboratory.intrinsic+json": {
              "type": "string"
            }
          },
          "metadata": {},
          "execution_count": 97
        }
      ]
    },
    {
      "cell_type": "code",
      "source": [
        "MODEL_NAME = 'xgboost_classifier_and_hyperparameter_tuning_85 (1)'\n",
        "DEPLOYMENT_NAME = 'liver'\n",
        "DEMO_MODEL = model\n"
      ],
      "metadata": {
        "id": "4OBYpVPOf783"
      },
      "execution_count": 98,
      "outputs": []
    },
    {
      "cell_type": "code",
      "source": [
        "# Set Python Version\n",
        "# software_spec_uid = wml_client.software_specifications.get_id_by_name('runtime-22.1-py3.9')\n",
        "\n"
      ],
      "metadata": {
        "id": "i9dgOWoxgCoD"
      },
      "execution_count": 102,
      "outputs": []
    },
    {
      "cell_type": "code",
      "source": [
        "# Setup model meta\n",
        "model_props = {\n",
        "#    wml_client.repository.ModelMetaNames.NAME: MODEL_NAME, \n",
        "#    wml_client.repository.ModelMetaNames.TYPE: 'scikit-learn_1.0', \n",
        "#    wml_client.repository.ModelMetaNames.SOFTWARE_SPEC_UID: software_spec_uid \n",
        "}"
      ],
      "metadata": {
        "id": "nc0il8nKgGE6"
      },
      "execution_count": 104,
      "outputs": []
    },
    {
      "cell_type": "code",
      "source": [
        "#Save model\n",
        "#model_details = wml_client.repository.store_model(\n",
        "#    model=DEMO_MODEL, \n",
        "#    meta_props=model_props, \n",
        "#    training_data=X_train, \n",
        "#    training_target=y_train\n",
        "# )"
      ],
      "metadata": {
        "id": "YaUo2QPQgJwI"
      },
      "execution_count": 107,
      "outputs": []
    },
    {
      "cell_type": "code",
      "source": [
        "# model_details"
      ],
      "metadata": {
        "id": "CcXY6LTsgOhV"
      },
      "execution_count": 109,
      "outputs": []
    },
    {
      "cell_type": "code",
      "source": [
        "# model_id = wml_client.repository.get_model_id(model_details)\n",
        "# model_id"
      ],
      "metadata": {
        "id": "nz6F-dAigSAd"
      },
      "execution_count": 113,
      "outputs": []
    },
    {
      "cell_type": "code",
      "source": [
        "# Set meta\n",
        "deployment_props = {\n",
        "#    wml_client.deployments.ConfigurationMetaNames.NAME:DEPLOYMENT_NAME, \n",
        "#    wml_client.deployments.ConfigurationMetaNames.ONLINE: {}\n",
        "}\n"
      ],
      "metadata": {
        "id": "lAHC2Jd9gVrQ"
      },
      "execution_count": 114,
      "outputs": []
    },
    {
      "cell_type": "code",
      "source": [
        "# Deploy\n",
        "# deployment = wml_client.deployments.create(\n",
        "#    artifact_uid=model_id, \n",
        "#    meta_props=deployment_props \n",
        "# )"
      ],
      "metadata": {
        "id": "UCQBfim1gdFC"
      },
      "execution_count": 117,
      "outputs": []
    },
    {
      "cell_type": "code",
      "source": [],
      "metadata": {
        "id": "D3v8ey_UgkR6"
      },
      "execution_count": 117,
      "outputs": []
    },
    {
      "cell_type": "markdown",
      "source": [
        "Conclusion\n",
        "In this kernel I've tried to present basic work of data scientist.As I am just starting,excuse possible mistakes and propose better solutions in comment section.\n",
        "\n",
        "This is my very first kernel on kaggle, give me thumb up if you enjoyed at least a bit;)\n",
        "\n",
        "```\n",
        "# This is formatted as code\n",
        "```\n",
        "\n"
      ],
      "metadata": {
        "id": "Evvh9pm2gqek"
      }
    }
  ]
}