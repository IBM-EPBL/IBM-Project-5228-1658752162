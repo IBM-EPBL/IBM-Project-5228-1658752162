{
 "cells": [
  {
   "cell_type": "code",
   "execution_count": 2,
   "id": "4627c18e",
   "metadata": {},
   "outputs": [],
   "source": [
    "from flask import Flask, render_template, request"
   ]
  },
  {
   "cell_type": "code",
   "execution_count": 3,
   "id": "b4f9de81",
   "metadata": {},
   "outputs": [],
   "source": [
    "import pickle"
   ]
  },
  {
   "cell_type": "code",
   "execution_count": 4,
   "id": "8583af7a",
   "metadata": {},
   "outputs": [],
   "source": [
    "app=Flask(__name__ ,template_folder='template')\n"
   ]
  },
  {
   "cell_type": "code",
   "execution_count": 8,
   "id": "afa7409d",
   "metadata": {
    "scrolled": false
   },
   "outputs": [
    {
     "ename": "SyntaxError",
     "evalue": "unexpected EOF while parsing (3420527795.py, line 1)",
     "output_type": "error",
     "traceback": [
      "\u001b[1;36m  Input \u001b[1;32mIn [8]\u001b[1;36m\u001b[0m\n\u001b[1;33m    @app.route('/')\u001b[0m\n\u001b[1;37m                   ^\u001b[0m\n\u001b[1;31mSyntaxError\u001b[0m\u001b[1;31m:\u001b[0m unexpected EOF while parsing\n"
     ]
    }
   ],
   "source": [
    "@app.route('/')"
   ]
  },
  {
   "cell_type": "code",
   "execution_count": null,
   "id": "7d11c9ad",
   "metadata": {},
   "outputs": [],
   "source": [
    "def home():"
   ]
  },
  {
   "cell_type": "code",
   "execution_count": null,
   "id": "3090f195",
   "metadata": {},
   "outputs": [],
   "source": [
    "return render_template('home.html')"
   ]
  },
  {
   "cell_type": "code",
   "execution_count": null,
   "id": "9ae5272f",
   "metadata": {},
   "outputs": [],
   "source": [
    "@app.route('/index')"
   ]
  },
  {
   "cell_type": "code",
   "execution_count": null,
   "id": "ab424c89",
   "metadata": {},
   "outputs": [],
   "source": [
    "def index():"
   ]
  },
  {
   "cell_type": "code",
   "execution_count": null,
   "id": "958177ae",
   "metadata": {},
   "outputs": [],
   "source": [
    "return render_template('index.html')"
   ]
  },
  {
   "cell_type": "code",
   "execution_count": null,
   "id": "079ec655",
   "metadata": {},
   "outputs": [],
   "source": [
    "@app.route('/data_predict',methods=['POST'])"
   ]
  },
  {
   "cell_type": "code",
   "execution_count": null,
   "id": "90bafc4c",
   "metadata": {},
   "outputs": [],
   "source": [
    "def data_predict():"
   ]
  },
  {
   "cell_type": "code",
   "execution_count": null,
   "id": "8deffb2f",
   "metadata": {},
   "outputs": [],
   "source": [
    "age=request.form['Age']"
   ]
  },
  {
   "cell_type": "code",
   "execution_count": null,
   "id": "4dd5b54c",
   "metadata": {},
   "outputs": [],
   "source": [
    " gender=request.form['Gender']"
   ]
  },
  {
   "cell_type": "code",
   "execution_count": null,
   "id": "360402ea",
   "metadata": {},
   "outputs": [],
   "source": [
    " tb=request.form['Total_Bilirubin']"
   ]
  },
  {
   "cell_type": "code",
   "execution_count": null,
   "id": "3db49202",
   "metadata": {},
   "outputs": [],
   "source": [
    "db=request.form['Direct_Bilirubin']"
   ]
  },
  {
   "cell_type": "code",
   "execution_count": null,
   "id": "1c003835",
   "metadata": {},
   "outputs": [],
   "source": [
    "ap=request.form['Alkaline_Phosphotase']"
   ]
  },
  {
   "cell_type": "code",
   "execution_count": null,
   "id": "886d4687",
   "metadata": {},
   "outputs": [],
   "source": [
    " aa1=request.form['Alamine_Aminotransferase']"
   ]
  },
  {
   "cell_type": "code",
   "execution_count": null,
   "id": "e57f4c88",
   "metadata": {},
   "outputs": [],
   "source": [
    "aa2=request.form['Aspartate_Aminotransferase']"
   ]
  },
  {
   "cell_type": "code",
   "execution_count": null,
   "id": "a7be0c11",
   "metadata": {},
   "outputs": [],
   "source": [
    "tp=request.form['Total_Protiens']"
   ]
  },
  {
   "cell_type": "code",
   "execution_count": null,
   "id": "ad2907de",
   "metadata": {},
   "outputs": [],
   "source": [
    "a=request.form['Albumin']"
   ]
  },
  {
   "cell_type": "code",
   "execution_count": null,
   "id": "e589a8ba",
   "metadata": {},
   "outputs": [],
   "source": [
    " agr=request.form['Albumin_and_Globulin_Ratio']"
   ]
  },
  {
   "cell_type": "code",
   "execution_count": null,
   "id": "e5f018e1",
   "metadata": {},
   "outputs": [],
   "source": [
    " data=[[float(age),float(gender),float(tb),float(db),float(ap),float(aa1),float(aa2),float(tp),float(a),float(agr)]]\n"
   ]
  },
  {
   "cell_type": "code",
   "execution_count": null,
   "id": "c62d251f",
   "metadata": {},
   "outputs": [],
   "source": [
    " model=pickle.load(open('liver_analysis.pkl','rb'))"
   ]
  },
  {
   "cell_type": "code",
   "execution_count": null,
   "id": "04de93af",
   "metadata": {},
   "outputs": [],
   "source": [
    "prediction=model.predict(data)[0]"
   ]
  },
  {
   "cell_type": "code",
   "execution_count": null,
   "id": "ccbb1e41",
   "metadata": {},
   "outputs": [],
   "source": [
    " if prediction==1:"
   ]
  },
  {
   "cell_type": "code",
   "execution_count": null,
   "id": "6f51ce5a",
   "metadata": {},
   "outputs": [],
   "source": [
    "return render_template(\"Chance.html\")"
   ]
  },
  {
   "cell_type": "code",
   "execution_count": null,
   "id": "5b2acfe4",
   "metadata": {},
   "outputs": [],
   "source": [
    "else:"
   ]
  },
  {
   "cell_type": "code",
   "execution_count": null,
   "id": "af4908f9",
   "metadata": {},
   "outputs": [],
   "source": [
    " return render_template(\"noChance.html\")"
   ]
  },
  {
   "cell_type": "code",
   "execution_count": null,
   "id": "7d97e8d2",
   "metadata": {},
   "outputs": [],
   "source": [
    "if __name__=='__main__':"
   ]
  },
  {
   "cell_type": "code",
   "execution_count": null,
   "id": "79ca3368",
   "metadata": {},
   "outputs": [],
   "source": [
    " app.debug=True"
   ]
  },
  {
   "cell_type": "code",
   "execution_count": null,
   "id": "364c2e0b",
   "metadata": {},
   "outputs": [],
   "source": [
    " app.run(host='0.0.0.0',port=5000)"
   ]
  },
  {
   "cell_type": "code",
   "execution_count": null,
   "id": "98a2a105",
   "metadata": {},
   "outputs": [],
   "source": []
  },
  {
   "cell_type": "code",
   "execution_count": null,
   "id": "07ed37fa",
   "metadata": {},
   "outputs": [],
   "source": []
  }
 ],
 "metadata": {
  "kernelspec": {
   "display_name": "Python 3 (ipykernel)",
   "language": "python",
   "name": "python3"
  },
  "language_info": {
   "codemirror_mode": {
    "name": "ipython",
    "version": 3
   },
   "file_extension": ".py",
   "mimetype": "text/x-python",
   "name": "python",
   "nbconvert_exporter": "python",
   "pygments_lexer": "ipython3",
   "version": "3.9.12"
  }
 },
 "nbformat": 4,
 "nbformat_minor": 5
}
