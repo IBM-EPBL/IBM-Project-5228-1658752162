{
 "cells": [
  {
   "cell_type": "code",
   "execution_count": 2,
   "id": "f685d12a",
   "metadata": {},
   "outputs": [],
   "source": [
    "from flask import Flask, render_template, request"
   ]
  },
  {
   "cell_type": "code",
   "execution_count": 3,
   "id": "ac8e9ae0",
   "metadata": {},
   "outputs": [],
   "source": [
    "import pickle"
   ]
  },
  {
   "cell_type": "code",
   "execution_count": 4,
   "id": "f879f87b",
   "metadata": {},
   "outputs": [],
   "source": [
    "app=Flask(__name__ ,template_folder='template')\n"
   ]
  },
  {
   "cell_type": "code",
   "execution_count": null,
   "id": "1cf42ae2",
   "metadata": {},
   "outputs": [],
   "source": [
    "@app.route('/')"
   ]
  },
  {
   "cell_type": "code",
   "execution_count": null,
   "id": "a683e30d",
   "metadata": {},
   "outputs": [],
   "source": [
    "def home():"
   ]
  },
  {
   "cell_type": "code",
   "execution_count": null,
   "id": "fb8db90d",
   "metadata": {},
   "outputs": [],
   "source": [
    "return render_template('home.html')"
   ]
  },
  {
   "cell_type": "code",
   "execution_count": null,
   "id": "6ff1369e",
   "metadata": {},
   "outputs": [],
   "source": [
    "@app.route('/index')"
   ]
  },
  {
   "cell_type": "code",
   "execution_count": null,
   "id": "62782d8a",
   "metadata": {},
   "outputs": [],
   "source": [
    "def index():"
   ]
  },
  {
   "cell_type": "code",
   "execution_count": null,
   "id": "f1291746",
   "metadata": {},
   "outputs": [],
   "source": [
    "return render_template('index.html')"
   ]
  },
  {
   "cell_type": "code",
   "execution_count": null,
   "id": "796942f7",
   "metadata": {},
   "outputs": [],
   "source": [
    "@app.route('/data_predict',methods=['POST'])"
   ]
  },
  {
   "cell_type": "code",
   "execution_count": null,
   "id": "36b9c6b3",
   "metadata": {},
   "outputs": [],
   "source": [
    "def data_predict():"
   ]
  },
  {
   "cell_type": "code",
   "execution_count": null,
   "id": "8cebf185",
   "metadata": {},
   "outputs": [],
   "source": [
    "age=request.form['Age']"
   ]
  },
  {
   "cell_type": "code",
   "execution_count": null,
   "id": "b9726b5a",
   "metadata": {},
   "outputs": [],
   "source": [
    " gender=request.form['Gender']"
   ]
  },
  {
   "cell_type": "code",
   "execution_count": null,
   "id": "e31378f2",
   "metadata": {},
   "outputs": [],
   "source": [
    " tb=request.form['Total_Bilirubin']"
   ]
  },
  {
   "cell_type": "code",
   "execution_count": null,
   "id": "bb08750e",
   "metadata": {},
   "outputs": [],
   "source": [
    "db=request.form['Direct_Bilirubin']"
   ]
  },
  {
   "cell_type": "code",
   "execution_count": null,
   "id": "752e6942",
   "metadata": {},
   "outputs": [],
   "source": [
    "ap=request.form['Alkaline_Phosphotase']"
   ]
  },
  {
   "cell_type": "code",
   "execution_count": null,
   "id": "33801c26",
   "metadata": {},
   "outputs": [],
   "source": [
    " aa1=request.form['Alamine_Aminotransferase']"
   ]
  },
  {
   "cell_type": "code",
   "execution_count": null,
   "id": "f28d5ee6",
   "metadata": {},
   "outputs": [],
   "source": [
    "aa2=request.form['Aspartate_Aminotransferase']"
   ]
  },
  {
   "cell_type": "code",
   "execution_count": null,
   "id": "7448ddbc",
   "metadata": {},
   "outputs": [],
   "source": [
    "tp=request.form['Total_Protiens']"
   ]
  },
  {
   "cell_type": "code",
   "execution_count": null,
   "id": "73fb3899",
   "metadata": {},
   "outputs": [],
   "source": [
    "a=request.form['Albumin']"
   ]
  },
  {
   "cell_type": "code",
   "execution_count": null,
   "id": "187abe1a",
   "metadata": {},
   "outputs": [],
   "source": [
    " agr=request.form['Albumin_and_Globulin_Ratio']"
   ]
  },
  {
   "cell_type": "code",
   "execution_count": null,
   "id": "ef62e802",
   "metadata": {},
   "outputs": [],
   "source": [
    " data=[[float(age),float(gender),float(tb),float(db),float(ap),float(aa1),float(aa2),float(tp),float(a),float(agr)]]\n"
   ]
  },
  {
   "cell_type": "code",
   "execution_count": null,
   "id": "d4b17bc1",
   "metadata": {},
   "outputs": [],
   "source": [
    " model=pickle.load(open('liver_analysis.pkl','rb'))"
   ]
  },
  {
   "cell_type": "code",
   "execution_count": null,
   "id": "0594fff9",
   "metadata": {},
   "outputs": [],
   "source": [
    "prediction=model.predict(data)[0]"
   ]
  },
  {
   "cell_type": "code",
   "execution_count": null,
   "id": "bd4cc546",
   "metadata": {},
   "outputs": [],
   "source": [
    " if prediction==1:"
   ]
  },
  {
   "cell_type": "code",
   "execution_count": null,
   "id": "e12ebbee",
   "metadata": {},
   "outputs": [],
   "source": [
    "return render_template(\"Chance.html\")"
   ]
  },
  {
   "cell_type": "code",
   "execution_count": null,
   "id": "aa209e30",
   "metadata": {},
   "outputs": [],
   "source": [
    "else:"
   ]
  },
  {
   "cell_type": "code",
   "execution_count": null,
   "id": "2e3cd7df",
   "metadata": {},
   "outputs": [],
   "source": [
    " return render_template(\"noChance.html\")"
   ]
  },
  {
   "cell_type": "code",
   "execution_count": null,
   "id": "c9efe146",
   "metadata": {},
   "outputs": [],
   "source": [
    "if __name__=='__main__':"
   ]
  },
  {
   "cell_type": "code",
   "execution_count": null,
   "id": "eba8b686",
   "metadata": {},
   "outputs": [],
   "source": [
    " app.debug=True"
   ]
  },
  {
   "cell_type": "code",
   "execution_count": null,
   "id": "da18c102",
   "metadata": {},
   "outputs": [],
   "source": [
    " app.run(host='0.0.0.0',port=5000)"
   ]
  },
  {
   "cell_type": "code",
   "execution_count": null,
   "id": "bdc07388",
   "metadata": {},
   "outputs": [],
   "source": []
  },
  {
   "cell_type": "code",
   "execution_count": null,
   "id": "230025f5",
   "metadata": {},
   "outputs": [],
   "source": []
  }
 ],
 "metadata": {
  "kernelspec": {
   "display_name": "Python 3 (ipykernel)",
   "language": "python",
   "name": "python3"
  },
  "language_info": {
   "codemirror_mode": {
    "name": "ipython",
    "version": 3
   },
   "file_extension": ".py",
   "mimetype": "text/x-python",
   "name": "python",
   "nbconvert_exporter": "python",
   "pygments_lexer": "ipython3",
   "version": "3.9.12"
  }
 },
 "nbformat": 4,
 "nbformat_minor": 5
}
